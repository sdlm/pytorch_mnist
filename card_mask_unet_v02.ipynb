{
  "nbformat": 4,
  "nbformat_minor": 0,
  "metadata": {
    "colab": {
      "name": "card_mask_unet_v02.ipynb",
      "version": "0.3.2",
      "provenance": [],
      "collapsed_sections": [],
      "include_colab_link": true
    },
    "kernelspec": {
      "name": "python3",
      "display_name": "Python 3"
    },
    "accelerator": "GPU"
  },
  "cells": [
    {
      "cell_type": "markdown",
      "metadata": {
        "id": "view-in-github",
        "colab_type": "text"
      },
      "source": [
        "<a href=\"https://colab.research.google.com/github/sdlm/pytorch_mnist/blob/master/card_mask_unet_v02.ipynb\" target=\"_parent\"><img src=\"https://colab.research.google.com/assets/colab-badge.svg\" alt=\"Open In Colab\"/></a>"
      ]
    },
    {
      "metadata": {
        "colab_type": "code",
        "id": "xr-hbmCKnN8W",
        "colab": {}
      },
      "cell_type": "code",
      "source": [
        "import numpy as np\n",
        "import pandas as pd\n",
        "import matplotlib.pyplot as plt\n",
        "%matplotlib inline\n",
        "import math\n",
        "import skimage.io as io\n",
        "from tqdm import tqdm_notebook, tqdm\n",
        "\n",
        "from skimage.draw import ellipse, polygon\n",
        "\n",
        "from keras import Model\n",
        "from keras.callbacks import EarlyStopping, ModelCheckpoint, ReduceLROnPlateau\n",
        "from keras.models import load_model\n",
        "from keras.optimizers import Adam\n",
        "from keras.layers import Input, Conv2D, Conv2DTranspose, MaxPooling2D, concatenate, Dropout\n",
        "from keras.losses import binary_crossentropy\n",
        "import tensorflow as tf\n",
        "import keras as keras\n",
        "\n",
        "from keras import backend as K\n",
        "\n",
        "from tqdm import tqdm_notebook\n",
        "h_size = 512\n",
        "w_size = 512\n",
        "train_num = 100\n",
        "train_x = np.zeros((train_num, h_size, w_size, 3), dtype='float32')\n",
        "train_y = np.zeros((train_num, h_size, w_size, 1), dtype='float32')\n",
        "\n",
        "img_l = np.random.sample((h_size, w_size, 3)) * 0.5\n",
        "img_h = np.random.sample((h_size, w_size, 3)) * 0.5 + 0.5\n",
        "\n",
        "radius_min = 10\n",
        "radius_max = 30"
      ],
      "execution_count": 0,
      "outputs": []
    },
    {
      "metadata": {
        "colab_type": "code",
        "id": "pqk4eCIfnN8d",
        "colab": {}
      },
      "cell_type": "code",
      "source": [
        "def dice_coef(y_true, y_pred):\n",
        "    y_true_f = K.flatten(y_true)\n",
        "    y_pred = K.cast(y_pred, 'float32')\n",
        "    y_pred_f = K.cast(K.greater(K.flatten(y_pred), 0.5), 'float32')\n",
        "    intersection = y_true_f * y_pred_f\n",
        "    score = 2. * K.sum(intersection) / (K.sum(y_true_f) + K.sum(y_pred_f))\n",
        "    return score\n",
        "\n",
        "def dice_loss(y_true, y_pred):\n",
        "    smooth = 1.\n",
        "    y_true_f = K.flatten(y_true)\n",
        "    y_pred_f = K.flatten(y_pred)\n",
        "    intersection = y_true_f * y_pred_f\n",
        "    score = (2. * K.sum(intersection) + smooth) / (K.sum(y_true_f) + K.sum(y_pred_f) + smooth)\n",
        "    return 1. - score\n",
        "\n",
        "def bce_dice_loss(y_true, y_pred):\n",
        "    return binary_crossentropy(y_true, y_pred) + dice_loss(y_true, y_pred)\n",
        "\n",
        "def get_iou_vector(A, B):\n",
        "    # Numpy version\n",
        "    A = A.numpy()\n",
        "    B = B.numpy()\n",
        "    \n",
        "    batch_size = A.shape[0]\n",
        "    metric = 0.0\n",
        "    for batch in range(batch_size):\n",
        "        t, p = A[batch], B[batch]\n",
        "        true = np.sum(t)\n",
        "        pred = np.sum(p)\n",
        "        \n",
        "        # deal with empty mask first\n",
        "        if true == 0:\n",
        "            metric += (pred == 0)\n",
        "            continue\n",
        "        \n",
        "        # non empty mask case.  Union is never empty \n",
        "        # hence it is safe to divide by its number of pixels\n",
        "        intersection = np.sum(t * p)\n",
        "        union = true + pred - intersection\n",
        "        iou = intersection / union\n",
        "        \n",
        "        # iou metrric is a stepwise approximation of the real iou over 0.5\n",
        "        iou = np.floor(max(0, (iou - 0.45)*20)) / 10\n",
        "        \n",
        "        metric += iou\n",
        "        \n",
        "    # teake the average over all images in batch\n",
        "    metric /= batch_size\n",
        "    return metric\n",
        "\n",
        "\n",
        "def my_iou_metric(label, pred):\n",
        "    # Tensorflow version\n",
        "    return tf.py_function(get_iou_vector, [label, pred > 0.5], tf.float64)\n",
        "\n",
        "\n",
        "\n",
        "from keras.utils.generic_utils import get_custom_objects\n",
        "\n",
        "get_custom_objects().update({'bce_dice_loss': bce_dice_loss })\n",
        "get_custom_objects().update({'dice_loss': dice_loss })\n",
        "get_custom_objects().update({'dice_coef': dice_coef })\n",
        "get_custom_objects().update({'my_iou_metric': my_iou_metric })\n"
      ],
      "execution_count": 0,
      "outputs": []
    },
    {
      "metadata": {
        "colab_type": "code",
        "id": "Ts7wBBlRnN8g",
        "scrolled": true,
        "colab": {}
      },
      "cell_type": "code",
      "source": [
        "def build_model(input_layer, start_neurons):\n",
        "    conv1 = Conv2D(start_neurons * 1, (3, 3), activation=\"relu\", padding=\"same\")(input_layer)\n",
        "    conv1 = Conv2D(start_neurons * 1, (3, 3), activation=\"relu\", padding=\"same\")(conv1)\n",
        "    pool1 = MaxPooling2D((2, 2))(conv1)\n",
        "    pool1 = Dropout(0.25)(pool1)\n",
        "\n",
        "    conv2 = Conv2D(start_neurons * 2, (3, 3), activation=\"relu\", padding=\"same\")(pool1)\n",
        "    conv2 = Conv2D(start_neurons * 2, (3, 3), activation=\"relu\", padding=\"same\")(conv2)\n",
        "    pool2 = MaxPooling2D((2, 2))(conv2)\n",
        "    pool2 = Dropout(0.5)(pool2)\n",
        "\n",
        "    conv3 = Conv2D(start_neurons * 4, (3, 3), activation=\"relu\", padding=\"same\")(pool2)\n",
        "    conv3 = Conv2D(start_neurons * 4, (3, 3), activation=\"relu\", padding=\"same\")(conv3)\n",
        "    pool3 = MaxPooling2D((2, 2))(conv3)\n",
        "    pool3 = Dropout(0.5)(pool3)\n",
        "\n",
        "    conv4 = Conv2D(start_neurons * 8, (3, 3), activation=\"relu\", padding=\"same\")(pool3)\n",
        "    conv4 = Conv2D(start_neurons * 8, (3, 3), activation=\"relu\", padding=\"same\")(conv4)\n",
        "    pool4 = MaxPooling2D((2, 2))(conv4)\n",
        "    pool4 = Dropout(0.5)(pool4)\n",
        "\n",
        "    # Middle\n",
        "    convm = Conv2D(start_neurons * 16, (3, 3), activation=\"relu\", padding=\"same\")(pool4)\n",
        "    convm = Conv2D(start_neurons * 16, (3, 3), activation=\"relu\", padding=\"same\")(convm)\n",
        "\n",
        "    deconv4 = Conv2DTranspose(start_neurons * 8, (3, 3), strides=(2, 2), padding=\"same\")(convm)\n",
        "    uconv4 = concatenate([deconv4, conv4])\n",
        "    uconv4 = Dropout(0.5)(uconv4)\n",
        "    uconv4 = Conv2D(start_neurons * 8, (3, 3), activation=\"relu\", padding=\"same\")(uconv4)\n",
        "    uconv4 = Conv2D(start_neurons * 8, (3, 3), activation=\"relu\", padding=\"same\")(uconv4)\n",
        "\n",
        "    deconv3 = Conv2DTranspose(start_neurons * 4, (3, 3), strides=(2, 2), padding=\"same\")(uconv4)\n",
        "    uconv3 = concatenate([deconv3, conv3])\n",
        "    uconv3 = Dropout(0.5)(uconv3)\n",
        "    uconv3 = Conv2D(start_neurons * 4, (3, 3), activation=\"relu\", padding=\"same\")(uconv3)\n",
        "    uconv3 = Conv2D(start_neurons * 4, (3, 3), activation=\"relu\", padding=\"same\")(uconv3)\n",
        "\n",
        "    deconv2 = Conv2DTranspose(start_neurons * 2, (3, 3), strides=(2, 2), padding=\"same\")(uconv3)\n",
        "    uconv2 = concatenate([deconv2, conv2])\n",
        "    uconv2 = Dropout(0.5)(uconv2)\n",
        "    uconv2 = Conv2D(start_neurons * 2, (3, 3), activation=\"relu\", padding=\"same\")(uconv2)\n",
        "    uconv2 = Conv2D(start_neurons * 2, (3, 3), activation=\"relu\", padding=\"same\")(uconv2)\n",
        "\n",
        "    deconv1 = Conv2DTranspose(start_neurons * 1, (3, 3), strides=(2, 2), padding=\"same\")(uconv2)\n",
        "    uconv1 = concatenate([deconv1, conv1])\n",
        "    uconv1 = Dropout(0.5)(uconv1)\n",
        "    uconv1 = Conv2D(start_neurons * 1, (3, 3), activation=\"relu\", padding=\"same\")(uconv1)\n",
        "    uconv1 = Conv2D(start_neurons * 1, (3, 3), activation=\"relu\", padding=\"same\")(uconv1)\n",
        "\n",
        "    uncov1 = Dropout(0.5)(uconv1)\n",
        "    output_layer = Conv2D(1, (1,1), padding=\"same\", activation=\"sigmoid\")(uconv1)\n",
        "    \n",
        "    return output_layer\n"
      ],
      "execution_count": 0,
      "outputs": []
    },
    {
      "metadata": {
        "colab_type": "code",
        "id": "ieQYRKZlnN8k",
        "colab": {}
      },
      "cell_type": "code",
      "source": [
        "def next_pair():\n",
        "    p = np.random.sample() - 0.5 # пока не успользуем\n",
        "    r = np.random.sample()*(w_size-2*radius_max) + radius_max # r,c - координаты центра эллипса\n",
        "    c = np.random.sample()*(w_size-2*radius_max) + radius_max #\n",
        "    r_radius = np.random.sample()*(radius_max-radius_min) + radius_min # большой и малый радиусы эллипса\n",
        "    c_radius = np.random.sample()*(radius_max-radius_min) + radius_min #\n",
        "    rot = np.random.sample()*360 #  наклон эллипса\n",
        "    rr, cc = ellipse(r, c, r_radius, c_radius, rotation=np.deg2rad(rot), shape=img_l.shape) # получаем все точки эллипса\n",
        "\n",
        "    img = img_h.copy() # красим пиксели моря/фона в шум от 0.5 до 1.0\n",
        "    img[rr, cc] = img_l[rr, cc] # красим пиксели эллипса в шум от 0.0  до 0.5\n",
        "    \n",
        "    msk = np.zeros((w_size, w_size, 1), dtype='float32')\n",
        "    msk[rr, cc] = 1. # красим пиксели маски эллипса\n",
        "\n",
        "    return img, msk\n"
      ],
      "execution_count": 0,
      "outputs": []
    },
    {
      "metadata": {
        "id": "qLDPENDaOxMD",
        "colab_type": "code",
        "colab": {}
      },
      "cell_type": "code",
      "source": [
        "import re\n",
        "import imgaug as ia\n",
        "from imgaug import augmenters as iaa\n",
        "import imageio\n",
        "import numpy as np\n",
        "from matplotlib import pyplot as plt\n",
        "import matplotlib.gridspec as gridspec\n",
        "ia.seed(1)\n",
        "\n",
        "batch_size = 10\n",
        "visible_batch_size = 4"
      ],
      "execution_count": 0,
      "outputs": []
    },
    {
      "metadata": {
        "id": "vHC7u16hO06Z",
        "colab_type": "code",
        "outputId": "76c86769-33f9-47af-e167-8f2ab39a6e48",
        "colab": {
          "base_uri": "https://localhost:8080/",
          "height": 34
        }
      },
      "cell_type": "code",
      "source": [
        "from google.colab import drive\n",
        "drive.mount('/content/gdrive')"
      ],
      "execution_count": 0,
      "outputs": [
        {
          "output_type": "stream",
          "text": [
            "Drive already mounted at /content/gdrive; to attempt to forcibly remount, call drive.mount(\"/content/gdrive\", force_remount=True).\n"
          ],
          "name": "stdout"
        }
      ]
    },
    {
      "metadata": {
        "id": "9VZ75rSvO1fq",
        "colab_type": "code",
        "colab": {}
      },
      "cell_type": "code",
      "source": [
        "sample_img = imageio.imread('/content/gdrive/My Drive/colab/original_sample_512.jpg', pilmode=\"RGB\")\n",
        "mask_img = imageio.imread('/content/gdrive/My Drive/colab/original_sample_mask_512.jpg', pilmode=\"RGB\", as_gray=True)\n",
        "\n",
        "original_smpl = np.array(sample_img, dtype=np.uint8)\n",
        "original_mask = np.array(mask_img, dtype=np.uint8)\n",
        "original_mask = original_mask.reshape(h_size, w_size, 1)"
      ],
      "execution_count": 0,
      "outputs": []
    },
    {
      "metadata": {
        "id": "-dQ9ulVrO3F5",
        "colab_type": "code",
        "colab": {}
      },
      "cell_type": "code",
      "source": [
        "seq = iaa.SomeOf(1, [\n",
        "    # Apply affine transformations to each image.\n",
        "    # Scale/zoom them, translate/move them, rotate them and shear them.\n",
        "    iaa.Affine(\n",
        "        scale={\"x\": (0.9, 1.1), \"y\": (0.9, 1.1)},\n",
        "        rotate=(-10, 10),\n",
        "        shear=(-20, 20),\n",
        "        mode='wrap'\n",
        "    )\n",
        "])"
      ],
      "execution_count": 0,
      "outputs": []
    },
    {
      "metadata": {
        "id": "YuqHhQIsO5hg",
        "colab_type": "code",
        "colab": {}
      },
      "cell_type": "code",
      "source": [
        "def next_pair():\n",
        "    _aug = seq._to_deterministic()\n",
        "    return _aug.augment_image(original_smpl), _aug.augment_image(original_mask)"
      ],
      "execution_count": 0,
      "outputs": []
    },
    {
      "metadata": {
        "id": "PUev-ctGYF0C",
        "colab_type": "code",
        "colab": {}
      },
      "cell_type": "code",
      "source": [
        "for k in range(train_num): # генерация всех img train\n",
        "    img, msk = next_pair()\n",
        "    train_x[k] = img\n",
        "    train_y[k] = msk\n",
        "\n",
        "f = lambda x: 255 - x\n",
        "vf = np.vectorize(f)\n",
        "train_y = vf(train_y)\n",
        "\n",
        "train_x = train_x / 255.0\n",
        "train_y = train_y / 255.0"
      ],
      "execution_count": 0,
      "outputs": []
    },
    {
      "metadata": {
        "colab_type": "code",
        "id": "cVovY8ZonN8n",
        "outputId": "f7b84ce3-a9ec-4564-c576-0f8253a5753f",
        "colab": {
          "base_uri": "https://localhost:8080/",
          "height": 295
        }
      },
      "cell_type": "code",
      "source": [
        "fig, axes = plt.subplots(2, 10, figsize=(20, 5)) # смотрим на первые 10 с масками\n",
        "for k in range(10):\n",
        "    axes[0,k].set_axis_off()\n",
        "    axes[0,k].imshow(train_x[k])\n",
        "    axes[1,k].set_axis_off()\n",
        "    axes[1,k].imshow(train_y[k].squeeze())\n"
      ],
      "execution_count": 0,
      "outputs": [
        {
          "output_type": "display_data",
          "data": {
            "image/png": "[encoded data removed]",
            "text/plain": [
              "<Figure size 1440x360 with 20 Axes>"
            ]
          },
          "metadata": {
            "tags": []
          }
        }
      ]
    },
    {
      "metadata": {
        "id": "tJeEreUd3bq7",
        "colab_type": "code",
        "colab": {}
      },
      "cell_type": "code",
      "source": [
        "input_layer = Input((h_size, w_size, 3))"
      ],
      "execution_count": 0,
      "outputs": []
    },
    {
      "metadata": {
        "id": "9uQOdiSsbKY-",
        "colab_type": "code",
        "outputId": "c362ecad-9f9d-44f9-8a21-750eb2dc972f",
        "colab": {
          "base_uri": "https://localhost:8080/",
          "height": 34
        }
      },
      "cell_type": "code",
      "source": [
        "input_layer.shape"
      ],
      "execution_count": 0,
      "outputs": [
        {
          "output_type": "execute_result",
          "data": {
            "text/plain": [
              "TensorShape([Dimension(None), Dimension(512), Dimension(512), Dimension(3)])"
            ]
          },
          "metadata": {
            "tags": []
          },
          "execution_count": 159
        }
      ]
    },
    {
      "metadata": {
        "id": "s3EnLo0P3cD6",
        "colab_type": "code",
        "colab": {}
      },
      "cell_type": "code",
      "source": [
        "output_layer = build_model(input_layer, 16)"
      ],
      "execution_count": 0,
      "outputs": []
    },
    {
      "metadata": {
        "id": "VBBIJ9Sw3cLN",
        "colab_type": "code",
        "colab": {}
      },
      "cell_type": "code",
      "source": [
        "model = Model(input_layer, output_layer)"
      ],
      "execution_count": 0,
      "outputs": []
    },
    {
      "metadata": {
        "id": "3_SAZEhH3cOI",
        "colab_type": "code",
        "colab": {}
      },
      "cell_type": "code",
      "source": [
        "model.compile(loss=bce_dice_loss, optimizer=Adam(lr=1e-3), metrics=[my_iou_metric])"
      ],
      "execution_count": 0,
      "outputs": []
    },
    {
      "metadata": {
        "id": "j4327QhH3cRO",
        "colab_type": "code",
        "colab": {}
      },
      "cell_type": "code",
      "source": [
        "model.save_weights('./keras.weights')"
      ],
      "execution_count": 0,
      "outputs": []
    },
    {
      "metadata": {
        "id": "OknsjY_h3cXh",
        "colab_type": "code",
        "colab": {}
      },
      "cell_type": "code",
      "source": [
        ""
      ],
      "execution_count": 0,
      "outputs": []
    },
    {
      "metadata": {
        "colab_type": "code",
        "id": "t-08Jh0enN8t",
        "outputId": "79b76193-793e-4e1f-83d7-54233752836c",
        "colab": {
          "base_uri": "https://localhost:8080/",
          "height": 1055
        }
      },
      "cell_type": "code",
      "source": [
        "\n",
        "\n",
        "\n",
        "\n",
        "\n",
        "\n",
        "\n",
        "while True:\n",
        "    history = model.fit(train_x, train_y,\n",
        "                        batch_size=32,\n",
        "                        epochs=1,\n",
        "                        verbose=1,\n",
        "                        validation_split=0.1\n",
        "                       )\n",
        "    if history.history['my_iou_metric'][0] > 0.75:\n",
        "        break\n"
      ],
      "execution_count": 0,
      "outputs": [
        {
          "output_type": "stream",
          "text": [
            "Train on 90 samples, validate on 10 samples\n",
            "Epoch 1/1\n"
          ],
          "name": "stdout"
        },
        {
          "output_type": "error",
          "ename": "ResourceExhaustedError",
          "evalue": "ignored",
          "traceback": [
            "\u001b[0;31m---------------------------------------------------------------------------\u001b[0m",
            "\u001b[0;31mResourceExhaustedError\u001b[0m                    Traceback (most recent call last)",
            "\u001b[0;32m<ipython-input-164-25d6a57bbc44>\u001b[0m in \u001b[0;36m<module>\u001b[0;34m()\u001b[0m\n\u001b[1;32m     11\u001b[0m                         \u001b[0mepochs\u001b[0m\u001b[0;34m=\u001b[0m\u001b[0;36m1\u001b[0m\u001b[0;34m,\u001b[0m\u001b[0;34m\u001b[0m\u001b[0;34m\u001b[0m\u001b[0m\n\u001b[1;32m     12\u001b[0m                         \u001b[0mverbose\u001b[0m\u001b[0;34m=\u001b[0m\u001b[0;36m1\u001b[0m\u001b[0;34m,\u001b[0m\u001b[0;34m\u001b[0m\u001b[0;34m\u001b[0m\u001b[0m\n\u001b[0;32m---> 13\u001b[0;31m                         \u001b[0mvalidation_split\u001b[0m\u001b[0;34m=\u001b[0m\u001b[0;36m0.1\u001b[0m\u001b[0;34m\u001b[0m\u001b[0;34m\u001b[0m\u001b[0m\n\u001b[0m\u001b[1;32m     14\u001b[0m                        )\n\u001b[1;32m     15\u001b[0m     \u001b[0;32mif\u001b[0m \u001b[0mhistory\u001b[0m\u001b[0;34m.\u001b[0m\u001b[0mhistory\u001b[0m\u001b[0;34m[\u001b[0m\u001b[0;34m'my_iou_metric'\u001b[0m\u001b[0;34m]\u001b[0m\u001b[0;34m[\u001b[0m\u001b[0;36m0\u001b[0m\u001b[0;34m]\u001b[0m \u001b[0;34m>\u001b[0m \u001b[0;36m0.75\u001b[0m\u001b[0;34m:\u001b[0m\u001b[0;34m\u001b[0m\u001b[0;34m\u001b[0m\u001b[0m\n",
            "\u001b[0;32m/usr/local/lib/python3.6/dist-packages/keras/engine/training.py\u001b[0m in \u001b[0;36mfit\u001b[0;34m(self, x, y, batch_size, epochs, verbose, callbacks, validation_split, validation_data, shuffle, class_weight, sample_weight, initial_epoch, steps_per_epoch, validation_steps, **kwargs)\u001b[0m\n\u001b[1;32m   1037\u001b[0m                                         \u001b[0minitial_epoch\u001b[0m\u001b[0;34m=\u001b[0m\u001b[0minitial_epoch\u001b[0m\u001b[0;34m,\u001b[0m\u001b[0;34m\u001b[0m\u001b[0;34m\u001b[0m\u001b[0m\n\u001b[1;32m   1038\u001b[0m                                         \u001b[0msteps_per_epoch\u001b[0m\u001b[0;34m=\u001b[0m\u001b[0msteps_per_epoch\u001b[0m\u001b[0;34m,\u001b[0m\u001b[0;34m\u001b[0m\u001b[0;34m\u001b[0m\u001b[0m\n\u001b[0;32m-> 1039\u001b[0;31m                                         validation_steps=validation_steps)\n\u001b[0m\u001b[1;32m   1040\u001b[0m \u001b[0;34m\u001b[0m\u001b[0m\n\u001b[1;32m   1041\u001b[0m     def evaluate(self, x=None, y=None,\n",
            "\u001b[0;32m/usr/local/lib/python3.6/dist-packages/keras/engine/training_arrays.py\u001b[0m in \u001b[0;36mfit_loop\u001b[0;34m(model, f, ins, out_labels, batch_size, epochs, verbose, callbacks, val_f, val_ins, shuffle, callback_metrics, initial_epoch, steps_per_epoch, validation_steps)\u001b[0m\n\u001b[1;32m    197\u001b[0m                     \u001b[0mins_batch\u001b[0m\u001b[0;34m[\u001b[0m\u001b[0mi\u001b[0m\u001b[0;34m]\u001b[0m \u001b[0;34m=\u001b[0m \u001b[0mins_batch\u001b[0m\u001b[0;34m[\u001b[0m\u001b[0mi\u001b[0m\u001b[0;34m]\u001b[0m\u001b[0;34m.\u001b[0m\u001b[0mtoarray\u001b[0m\u001b[0;34m(\u001b[0m\u001b[0;34m)\u001b[0m\u001b[0;34m\u001b[0m\u001b[0;34m\u001b[0m\u001b[0m\n\u001b[1;32m    198\u001b[0m \u001b[0;34m\u001b[0m\u001b[0m\n\u001b[0;32m--> 199\u001b[0;31m                 \u001b[0mouts\u001b[0m \u001b[0;34m=\u001b[0m \u001b[0mf\u001b[0m\u001b[0;34m(\u001b[0m\u001b[0mins_batch\u001b[0m\u001b[0;34m)\u001b[0m\u001b[0;34m\u001b[0m\u001b[0;34m\u001b[0m\u001b[0m\n\u001b[0m\u001b[1;32m    200\u001b[0m                 \u001b[0mouts\u001b[0m \u001b[0;34m=\u001b[0m \u001b[0mto_list\u001b[0m\u001b[0;34m(\u001b[0m\u001b[0mouts\u001b[0m\u001b[0;34m)\u001b[0m\u001b[0;34m\u001b[0m\u001b[0;34m\u001b[0m\u001b[0m\n\u001b[1;32m    201\u001b[0m                 \u001b[0;32mfor\u001b[0m \u001b[0ml\u001b[0m\u001b[0;34m,\u001b[0m \u001b[0mo\u001b[0m \u001b[0;32min\u001b[0m \u001b[0mzip\u001b[0m\u001b[0;34m(\u001b[0m\u001b[0mout_labels\u001b[0m\u001b[0;34m,\u001b[0m \u001b[0mouts\u001b[0m\u001b[0;34m)\u001b[0m\u001b[0;34m:\u001b[0m\u001b[0;34m\u001b[0m\u001b[0;34m\u001b[0m\u001b[0m\n",
            "\u001b[0;32m/usr/local/lib/python3.6/dist-packages/keras/backend/tensorflow_backend.py\u001b[0m in \u001b[0;36m__call__\u001b[0;34m(self, inputs)\u001b[0m\n\u001b[1;32m   2713\u001b[0m                 \u001b[0;32mreturn\u001b[0m \u001b[0mself\u001b[0m\u001b[0;34m.\u001b[0m\u001b[0m_legacy_call\u001b[0m\u001b[0;34m(\u001b[0m\u001b[0minputs\u001b[0m\u001b[0;34m)\u001b[0m\u001b[0;34m\u001b[0m\u001b[0;34m\u001b[0m\u001b[0m\n\u001b[1;32m   2714\u001b[0m \u001b[0;34m\u001b[0m\u001b[0m\n\u001b[0;32m-> 2715\u001b[0;31m             \u001b[0;32mreturn\u001b[0m \u001b[0mself\u001b[0m\u001b[0;34m.\u001b[0m\u001b[0m_call\u001b[0m\u001b[0;34m(\u001b[0m\u001b[0minputs\u001b[0m\u001b[0;34m)\u001b[0m\u001b[0;34m\u001b[0m\u001b[0;34m\u001b[0m\u001b[0m\n\u001b[0m\u001b[1;32m   2716\u001b[0m         \u001b[0;32melse\u001b[0m\u001b[0;34m:\u001b[0m\u001b[0;34m\u001b[0m\u001b[0;34m\u001b[0m\u001b[0m\n\u001b[1;32m   2717\u001b[0m             \u001b[0;32mif\u001b[0m \u001b[0mpy_any\u001b[0m\u001b[0;34m(\u001b[0m\u001b[0mis_tensor\u001b[0m\u001b[0;34m(\u001b[0m\u001b[0mx\u001b[0m\u001b[0;34m)\u001b[0m \u001b[0;32mfor\u001b[0m \u001b[0mx\u001b[0m \u001b[0;32min\u001b[0m \u001b[0minputs\u001b[0m\u001b[0;34m)\u001b[0m\u001b[0;34m:\u001b[0m\u001b[0;34m\u001b[0m\u001b[0;34m\u001b[0m\u001b[0m\n",
            "\u001b[0;32m/usr/local/lib/python3.6/dist-packages/keras/backend/tensorflow_backend.py\u001b[0m in \u001b[0;36m_call\u001b[0;34m(self, inputs)\u001b[0m\n\u001b[1;32m   2673\u001b[0m             \u001b[0mfetched\u001b[0m \u001b[0;34m=\u001b[0m \u001b[0mself\u001b[0m\u001b[0;34m.\u001b[0m\u001b[0m_callable_fn\u001b[0m\u001b[0;34m(\u001b[0m\u001b[0;34m*\u001b[0m\u001b[0marray_vals\u001b[0m\u001b[0;34m,\u001b[0m \u001b[0mrun_metadata\u001b[0m\u001b[0;34m=\u001b[0m\u001b[0mself\u001b[0m\u001b[0;34m.\u001b[0m\u001b[0mrun_metadata\u001b[0m\u001b[0;34m)\u001b[0m\u001b[0;34m\u001b[0m\u001b[0;34m\u001b[0m\u001b[0m\n\u001b[1;32m   2674\u001b[0m         \u001b[0;32melse\u001b[0m\u001b[0;34m:\u001b[0m\u001b[0;34m\u001b[0m\u001b[0;34m\u001b[0m\u001b[0m\n\u001b[0;32m-> 2675\u001b[0;31m             \u001b[0mfetched\u001b[0m \u001b[0;34m=\u001b[0m \u001b[0mself\u001b[0m\u001b[0;34m.\u001b[0m\u001b[0m_callable_fn\u001b[0m\u001b[0;34m(\u001b[0m\u001b[0;34m*\u001b[0m\u001b[0marray_vals\u001b[0m\u001b[0;34m)\u001b[0m\u001b[0;34m\u001b[0m\u001b[0;34m\u001b[0m\u001b[0m\n\u001b[0m\u001b[1;32m   2676\u001b[0m         \u001b[0;32mreturn\u001b[0m \u001b[0mfetched\u001b[0m\u001b[0;34m[\u001b[0m\u001b[0;34m:\u001b[0m\u001b[0mlen\u001b[0m\u001b[0;34m(\u001b[0m\u001b[0mself\u001b[0m\u001b[0;34m.\u001b[0m\u001b[0moutputs\u001b[0m\u001b[0;34m)\u001b[0m\u001b[0;34m]\u001b[0m\u001b[0;34m\u001b[0m\u001b[0;34m\u001b[0m\u001b[0m\n\u001b[1;32m   2677\u001b[0m \u001b[0;34m\u001b[0m\u001b[0m\n",
            "\u001b[0;32m/usr/local/lib/python3.6/dist-packages/tensorflow/python/client/session.py\u001b[0m in \u001b[0;36m__call__\u001b[0;34m(self, *args, **kwargs)\u001b[0m\n\u001b[1;32m   1437\u001b[0m           ret = tf_session.TF_SessionRunCallable(\n\u001b[1;32m   1438\u001b[0m               \u001b[0mself\u001b[0m\u001b[0;34m.\u001b[0m\u001b[0m_session\u001b[0m\u001b[0;34m.\u001b[0m\u001b[0m_session\u001b[0m\u001b[0;34m,\u001b[0m \u001b[0mself\u001b[0m\u001b[0;34m.\u001b[0m\u001b[0m_handle\u001b[0m\u001b[0;34m,\u001b[0m \u001b[0margs\u001b[0m\u001b[0;34m,\u001b[0m \u001b[0mstatus\u001b[0m\u001b[0;34m,\u001b[0m\u001b[0;34m\u001b[0m\u001b[0;34m\u001b[0m\u001b[0m\n\u001b[0;32m-> 1439\u001b[0;31m               run_metadata_ptr)\n\u001b[0m\u001b[1;32m   1440\u001b[0m         \u001b[0;32mif\u001b[0m \u001b[0mrun_metadata\u001b[0m\u001b[0;34m:\u001b[0m\u001b[0;34m\u001b[0m\u001b[0;34m\u001b[0m\u001b[0m\n\u001b[1;32m   1441\u001b[0m           \u001b[0mproto_data\u001b[0m \u001b[0;34m=\u001b[0m \u001b[0mtf_session\u001b[0m\u001b[0;34m.\u001b[0m\u001b[0mTF_GetBuffer\u001b[0m\u001b[0;34m(\u001b[0m\u001b[0mrun_metadata_ptr\u001b[0m\u001b[0;34m)\u001b[0m\u001b[0;34m\u001b[0m\u001b[0;34m\u001b[0m\u001b[0m\n",
            "\u001b[0;32m/usr/local/lib/python3.6/dist-packages/tensorflow/python/framework/errors_impl.py\u001b[0m in \u001b[0;36m__exit__\u001b[0;34m(self, type_arg, value_arg, traceback_arg)\u001b[0m\n\u001b[1;32m    526\u001b[0m             \u001b[0;32mNone\u001b[0m\u001b[0;34m,\u001b[0m \u001b[0;32mNone\u001b[0m\u001b[0;34m,\u001b[0m\u001b[0;34m\u001b[0m\u001b[0;34m\u001b[0m\u001b[0m\n\u001b[1;32m    527\u001b[0m             \u001b[0mcompat\u001b[0m\u001b[0;34m.\u001b[0m\u001b[0mas_text\u001b[0m\u001b[0;34m(\u001b[0m\u001b[0mc_api\u001b[0m\u001b[0;34m.\u001b[0m\u001b[0mTF_Message\u001b[0m\u001b[0;34m(\u001b[0m\u001b[0mself\u001b[0m\u001b[0;34m.\u001b[0m\u001b[0mstatus\u001b[0m\u001b[0;34m.\u001b[0m\u001b[0mstatus\u001b[0m\u001b[0;34m)\u001b[0m\u001b[0;34m)\u001b[0m\u001b[0;34m,\u001b[0m\u001b[0;34m\u001b[0m\u001b[0;34m\u001b[0m\u001b[0m\n\u001b[0;32m--> 528\u001b[0;31m             c_api.TF_GetCode(self.status.status))\n\u001b[0m\u001b[1;32m    529\u001b[0m     \u001b[0;31m# Delete the underlying status object from memory otherwise it stays alive\u001b[0m\u001b[0;34m\u001b[0m\u001b[0;34m\u001b[0m\u001b[0;34m\u001b[0m\u001b[0m\n\u001b[1;32m    530\u001b[0m     \u001b[0;31m# as there is a reference to status from this from the traceback due to\u001b[0m\u001b[0;34m\u001b[0m\u001b[0;34m\u001b[0m\u001b[0;34m\u001b[0m\u001b[0m\n",
            "\u001b[0;31mResourceExhaustedError\u001b[0m: OOM when allocating tensor with shape[32,32,512,512] and type float on /job:localhost/replica:0/task:0/device:GPU:0 by allocator GPU_0_bfc\n\t [[{{node training_1/Adam/gradients/dropout_41/cond/dropout/mul_grad/Mul-1-TransposeNHWCToNCHW-LayoutOptimizer}}]]\nHint: If you want to see a list of allocated tensors when OOM happens, add report_tensor_allocations_upon_oom to RunOptions for current allocation info.\n"
          ]
        }
      ]
    },
    {
      "metadata": {
        "id": "6C_xfNeJ3a4S",
        "colab_type": "code",
        "colab": {}
      },
      "cell_type": "code",
      "source": [
        ""
      ],
      "execution_count": 0,
      "outputs": []
    },
    {
      "metadata": {
        "colab_type": "code",
        "id": "1hA2dTF4nN8x",
        "colab": {}
      },
      "cell_type": "code",
      "source": [
        "def next_pair():\n",
        "    \n",
        "    p = np.random.sample() - 0.5 # это выбор цвета фон/эллипс\n",
        "    r = np.random.sample()*(w_size-2*radius_max) + radius_max\n",
        "    c = np.random.sample()*(w_size-2*radius_max) + radius_max\n",
        "    r_radius = np.random.sample()*(radius_max-radius_min) + radius_min\n",
        "    c_radius = np.random.sample()*(radius_max-radius_min) + radius_min\n",
        "    rot = np.random.sample()*360\n",
        "    rr, cc = ellipse(r, c, r_radius, c_radius, rotation=np.deg2rad(rot), shape=img_l.shape)\n",
        "\n",
        "    if p > 0: #  если выбрали фон потемнее\n",
        "        img = img_l.copy()\n",
        "        img[rr, cc] = img_h[rr, cc]\n",
        "    else: #  если выбрали фон светлее\n",
        "        img = img_h.copy()\n",
        "        img[rr, cc] = img_l[rr, cc]\n",
        "        \n",
        "    msk = np.zeros((w_size, w_size, 1), dtype='float32')\n",
        "    msk[rr, cc] = 1.\n",
        "\n",
        "    return img, msk\n"
      ],
      "execution_count": 0,
      "outputs": []
    },
    {
      "metadata": {
        "colab_type": "code",
        "id": "Cm2RrffpnN81",
        "colab": {}
      },
      "cell_type": "code",
      "source": [
        "for k in range(train_num):\n",
        "    img, msk = next_pair()\n",
        "    \n",
        "    train_x[k] = img\n",
        "    train_y[k] = msk\n",
        "\n",
        "fig, axes = plt.subplots(2, 10, figsize=(20, 5))\n",
        "for k in range(10):\n",
        "    axes[0,k].set_axis_off()\n",
        "    axes[0,k].imshow(train_x[k])\n",
        "    axes[1,k].set_axis_off()\n",
        "    axes[1,k].imshow(train_y[k].squeeze())"
      ],
      "execution_count": 0,
      "outputs": []
    },
    {
      "metadata": {
        "colab_type": "code",
        "id": "9_i4mEKLnN84",
        "colab": {}
      },
      "cell_type": "code",
      "source": [
        "input_layer = Input((w_size, w_size, 3))\n",
        "output_layer = build_model(input_layer, 16)\n",
        "model = Model(input_layer, output_layer)\n",
        "model.compile(loss=bce_dice_loss, optimizer=Adam(lr=1e-3), metrics=[my_iou_metric])\n",
        "model.load_weights('./keras.weights', by_name=False)\n",
        "\n",
        "# model.summary()\n",
        "\n",
        "# while True:\n",
        "#     history = model.fit(train_x, train_y,\n",
        "#                         batch_size=32,\n",
        "#                         epochs=1,\n",
        "#                         verbose=1,\n",
        "#                         validation_split=0.1\n",
        "#                        )\n",
        "#     if history.history['my_iou_metric'][0] > 0.75:\n",
        "#         break\n"
      ],
      "execution_count": 0,
      "outputs": []
    },
    {
      "metadata": {
        "colab_type": "code",
        "id": "jQwCn2RjnN88",
        "colab": {}
      },
      "cell_type": "code",
      "source": [
        "def next_pair():\n",
        "    #  выбираем также как и ранее параметры эллипса\n",
        "    p = np.random.sample() - 0.5\n",
        "    r = np.random.sample()*(w_size-2*radius_max) + radius_max\n",
        "    c = np.random.sample()*(w_size-2*radius_max) + radius_max\n",
        "    r_radius = np.random.sample()*(radius_max-radius_min) + radius_min\n",
        "    c_radius = np.random.sample()*(radius_max-radius_min) + radius_min\n",
        "    rot = np.random.sample()*360\n",
        "    rr, cc = ellipse(r, c, r_radius, c_radius, rotation=np.deg2rad(rot), shape=img_l.shape)\n",
        "\n",
        "    p1 = np.rint(np.random.sample()*(w_size-2*radius_max) + radius_max)\n",
        "    p2 = np.rint(np.random.sample()*(w_size-2*radius_max) + radius_max)\n",
        "    p3 = np.rint(np.random.sample()*(2*radius_max - radius_min) + radius_min)\n",
        "    p4 = np.rint(np.random.sample()*(2*radius_max - radius_min) + radius_min)\n",
        "\n",
        "  #  выбираем параметры прямоугольника/помехи, задаем четыре угла\n",
        "    poly = np.array((\n",
        "        (p1, p2),\n",
        "        (p1, p2+p4),\n",
        "        (p1+p3, p2+p4),\n",
        "        (p1+p3, p2),\n",
        "        (p1, p2),\n",
        "    ))\n",
        "    rr_p, cc_p = polygon(poly[:, 0], poly[:, 1], img_l.shape)\n",
        "\n",
        "    in_sc = list(set(rr) & set(rr_p)) #  следим за тем, что бы прямоугольник\n",
        "                                      #  не пересекался с эллипсом\n",
        "                                      #  и сдвигаем его в сторону при необходимости\n",
        "    if len(in_sc) > 0:\n",
        "        if np.mean(rr_p) > np.mean(in_sc):\n",
        "            poly += np.max(in_sc) - np.min(in_sc)\n",
        "        else:\n",
        "            poly -= np.max(in_sc) - np.min(in_sc)\n",
        "    rr_p, cc_p = polygon(poly[:, 0], poly[:, 1], img_l.shape)\n",
        "    \n",
        "    if p > 0:\n",
        "        img = img_l.copy()\n",
        "        img[rr, cc] = img_h[rr, cc]\n",
        "        img[rr_p, cc_p] = img_h[rr_p, cc_p]\n",
        "    else:\n",
        "        img = img_h.copy()\n",
        "        img[rr, cc] = img_l[rr, cc]\n",
        "        img[rr_p, cc_p] = img_l[rr_p, cc_p]\n",
        "        \n",
        "    msk = np.zeros((w_size, w_size, 1), dtype='float32')\n",
        "    msk[rr, cc] = 1.\n",
        "\n",
        "    return img, msk\n"
      ],
      "execution_count": 0,
      "outputs": []
    },
    {
      "metadata": {
        "colab_type": "code",
        "id": "evu5UIRlnN8_",
        "scrolled": true,
        "colab": {}
      },
      "cell_type": "code",
      "source": [
        "for k in range(train_num):\n",
        "    img, msk = next_pair()\n",
        "    \n",
        "    train_x[k] = img\n",
        "    train_y[k] = msk\n",
        "\n",
        "fig, axes = plt.subplots(2, 10, figsize=(20, 5))\n",
        "for k in range(10):\n",
        "    axes[0,k].set_axis_off()\n",
        "    axes[0,k].imshow(train_x[k])\n",
        "    axes[1,k].set_axis_off()\n",
        "    axes[1,k].imshow(train_y[k].squeeze())\n"
      ],
      "execution_count": 0,
      "outputs": []
    },
    {
      "metadata": {
        "colab_type": "code",
        "id": "5XIPH8qTnN9D",
        "colab": {}
      },
      "cell_type": "code",
      "source": [
        "input_layer = Input((w_size, w_size, 3))\n",
        "output_layer = build_model(input_layer, 16)\n",
        "model = Model(input_layer, output_layer)\n",
        "model.compile(loss=bce_dice_loss, optimizer=Adam(lr=1e-3), metrics=[my_iou_metric])\n",
        "model.load_weights('./keras.weights', by_name=False)\n",
        "\n",
        "# model.summary()\n",
        "\n",
        "# while True:\n",
        "#     history = model.fit(train_x, train_y,\n",
        "#                         batch_size=32,\n",
        "#                         epochs=1,\n",
        "#                         verbose=1,\n",
        "#                         validation_split=0.1\n",
        "#                        )\n",
        "#     if history.history['my_iou_metric'][0] > 0.75:\n",
        "#         break\n"
      ],
      "execution_count": 0,
      "outputs": []
    },
    {
      "metadata": {
        "colab_type": "code",
        "id": "KHZlycuenN9L",
        "colab": {}
      },
      "cell_type": "code",
      "source": [
        "def next_pair():\n",
        "    \n",
        "    p = np.random.sample() - 0.5\n",
        "    r = np.random.sample()*(w_size-2*radius_max) + radius_max\n",
        "    c = np.random.sample()*(w_size-2*radius_max) + radius_max\n",
        "    r_radius = np.random.sample()*(radius_max-radius_min) + radius_min\n",
        "    c_radius = np.random.sample()*(radius_max-radius_min) + radius_min\n",
        "    rot = np.random.sample()*360\n",
        "    rr, cc = ellipse(r, c, r_radius, c_radius, rotation=np.deg2rad(rot), shape=img_l.shape)\n",
        "\n",
        "    p0 = np.rint(np.random.sample()*(radius_max-radius_min) + radius_min)\n",
        "    p1 = np.rint(np.random.sample()*(w_size-radius_max))\n",
        "    p2 = np.rint(np.random.sample()*(w_size-radius_max))\n",
        "    p3 = np.rint(np.random.sample()*2.*radius_min - radius_min)\n",
        "    p4 = np.rint(np.random.sample()*2.*radius_min - radius_min)\n",
        "    p5 = np.rint(np.random.sample()*2.*radius_min - radius_min)\n",
        "    p6 = np.rint(np.random.sample()*2.*radius_min - radius_min)\n",
        "    p7 = np.rint(np.random.sample()*2.*radius_min - radius_min)\n",
        "    p8 = np.rint(np.random.sample()*2.*radius_min - radius_min)\n",
        "\n",
        "\n",
        "    poly = np.array((\n",
        "        (p1, p2),\n",
        "        (p1+p3, p2+p4+p0),\n",
        "        (p1+p5+p0, p2+p6+p0),\n",
        "        (p1+p7+p0, p2+p8),\n",
        "        (p1, p2),\n",
        "    ))\n",
        "    rr_p, cc_p = polygon(poly[:, 0], poly[:, 1], img_l.shape)\n",
        "\n",
        "    in_sc = list(set(rr) & set(rr_p))\n",
        "    if len(in_sc) > 0:\n",
        "        if np.mean(rr_p) > np.mean(in_sc):\n",
        "            poly += np.max(in_sc) - np.min(in_sc)\n",
        "        else:\n",
        "            poly -= np.max(in_sc) - np.min(in_sc)\n",
        "    rr_p, cc_p = polygon(poly[:, 0], poly[:, 1], img_l.shape)\n",
        "    \n",
        "    if p > 0:\n",
        "        img = img_l.copy()\n",
        "        img[rr, cc] = img_h[rr, cc]\n",
        "        img[rr_p, cc_p] = img_h[rr_p, cc_p]\n",
        "    else:\n",
        "        img = img_h.copy()\n",
        "        img[rr, cc] = img_l[rr, cc]\n",
        "        img[rr_p, cc_p] = img_l[rr_p, cc_p]\n",
        "        \n",
        "    msk = np.zeros((w_size, w_size, 1), dtype='float32')\n",
        "    msk[rr, cc] = 1.\n",
        "\n",
        "    return img, msk\n"
      ],
      "execution_count": 0,
      "outputs": []
    },
    {
      "metadata": {
        "colab_type": "code",
        "id": "33Omi0RVnN9R",
        "colab": {}
      },
      "cell_type": "code",
      "source": [
        "for k in range(train_num):\n",
        "    img, msk = next_pair()\n",
        "    \n",
        "    train_x[k] = img\n",
        "    train_y[k] = msk\n",
        "\n",
        "fig, axes = plt.subplots(2, 10, figsize=(20, 5))\n",
        "for k in range(10):\n",
        "    axes[0,k].set_axis_off()\n",
        "    axes[0,k].imshow(train_x[k])\n",
        "    axes[1,k].set_axis_off()\n",
        "    axes[1,k].imshow(train_y[k].squeeze())\n"
      ],
      "execution_count": 0,
      "outputs": []
    },
    {
      "metadata": {
        "colab_type": "code",
        "id": "C3QnbobAnN9V",
        "colab": {}
      },
      "cell_type": "code",
      "source": [
        "input_layer = Input((w_size, w_size, 3))\n",
        "output_layer = build_model(input_layer, 16)\n",
        "model = Model(input_layer, output_layer)\n",
        "model.compile(loss=bce_dice_loss, optimizer=Adam(lr=1e-3), metrics=[my_iou_metric])\n",
        "model.load_weights('./keras.weights', by_name=False)\n",
        "\n",
        "# model.summary()\n",
        "\n",
        "# while True:\n",
        "#     history = model.fit(train_x, train_y,\n",
        "#                         batch_size=32,\n",
        "#                         epochs=1,\n",
        "#                         verbose=1,\n",
        "#                         validation_split=0.1\n",
        "#                        )\n",
        "#     if history.history['my_iou_metric'][0] > 0.75:\n",
        "#         break\n"
      ],
      "execution_count": 0,
      "outputs": []
    },
    {
      "metadata": {
        "colab_type": "code",
        "id": "vZiFjwHBnN9a",
        "colab": {}
      },
      "cell_type": "code",
      "source": [
        "def next_pair(_n = 7):\n",
        "    \n",
        "    p = np.random.sample() - 0.5\n",
        "    c_x = np.random.sample()*(w_size-2*radius_max) + radius_max\n",
        "    c_y = np.random.sample()*(w_size-2*radius_max) + radius_max\n",
        "    radius = np.random.sample()*(radius_max-radius_min) + radius_min\n",
        "    d = np.random.sample()*0.5 + 1\n",
        "    a_deg = np.random.sample()*360\n",
        "    a_rad = np.deg2rad(a_deg)\n",
        "    \n",
        "    poly = [] #  строим точки семиугольника\n",
        "    for k in range(_n):\n",
        "        poly.append(c_x+radius*math.sin(2.*k*math.pi/_n)) #  сначала точки правильного семиугольника\n",
        "        poly.append(c_y+radius*math.cos(2.*k*math.pi/_n)) #  с_х с_у -координаты центра\n",
        "        poly[-2] = (poly[-2]-c_x)/d +c_x #  сжимаем\\проецируем семиугольник\n",
        "        poly[-1] = (poly[-1]-c_y) +c_y   #  на произвольную от 0.5 до 1.5 величину\n",
        "        #  поворачиваем на случайный угол\n",
        "        poly[-2] = ((poly[-2]-c_x)*math.cos(a_rad) - (poly[-1]-c_y)*math.sin(a_rad)) + c_x\n",
        "        poly[-1] = ((poly[-2]-c_x)*math.sin(a_rad) + (poly[-1]-c_y)*math.cos(a_rad)) + c_y\n",
        "\n",
        "    poly = np.rint(poly).reshape(-1,2)\n",
        "    rr, cc = polygon(poly[:, 0], poly[:, 1], img_l.shape)\n",
        "    #    rr, cc = ellipse(r, c, r_radius, c_radius, rotation=np.deg2rad(rot), shape=img_l.shape)\n",
        "\n",
        "    p0 = np.rint(np.random.sample()*(radius_max-radius_min) + radius_min)\n",
        "    p1 = np.rint(np.random.sample()*(w_size-radius_max))\n",
        "    p2 = np.rint(np.random.sample()*(w_size-radius_max))\n",
        "    p3 = np.rint(np.random.sample()*2.*radius_min - radius_min)\n",
        "    p4 = np.rint(np.random.sample()*2.*radius_min - radius_min)\n",
        "    p5 = np.rint(np.random.sample()*2.*radius_min - radius_min)\n",
        "    p6 = np.rint(np.random.sample()*2.*radius_min - radius_min)\n",
        "    p7 = np.rint(np.random.sample()*2.*radius_min - radius_min)\n",
        "    p8 = np.rint(np.random.sample()*2.*radius_min - radius_min)\n",
        "\n",
        "\n",
        "    poly = np.array((\n",
        "        (p1, p2),\n",
        "        (p1+p3, p2+p4+p0),\n",
        "        (p1+p5+p0, p2+p6+p0),\n",
        "        (p1+p7+p0, p2+p8),\n",
        "        (p1, p2),\n",
        "    ))\n",
        "    rr_p, cc_p = polygon(poly[:, 0], poly[:, 1], img_l.shape)\n",
        "\n",
        "    in_sc = list(set(rr) & set(rr_p))\n",
        "    if len(in_sc) > 0:\n",
        "        if np.mean(rr_p) > np.mean(in_sc):\n",
        "            poly += np.max(in_sc) - np.min(in_sc)\n",
        "        else:\n",
        "            poly -= np.max(in_sc) - np.min(in_sc)\n",
        "    rr_p, cc_p = polygon(poly[:, 0], poly[:, 1], img_l.shape)\n",
        "    \n",
        "    if p > 0:\n",
        "        img = img_l.copy()\n",
        "        img[rr, cc] = img_h[rr, cc]\n",
        "        img[rr_p, cc_p] = img_h[rr_p, cc_p]\n",
        "    else:\n",
        "        img = img_h.copy()\n",
        "        img[rr, cc] = img_l[rr, cc]\n",
        "        img[rr_p, cc_p] = img_l[rr_p, cc_p]\n",
        "        \n",
        "    msk = np.zeros((w_size, w_size, 1), dtype='float32')\n",
        "    msk[rr, cc] = 1.\n",
        "\n",
        "    return img, msk\n"
      ],
      "execution_count": 0,
      "outputs": []
    },
    {
      "metadata": {
        "colab_type": "code",
        "id": "QaBL6mKTnN9g",
        "scrolled": false,
        "colab": {}
      },
      "cell_type": "code",
      "source": [
        "for k in range(train_num):\n",
        "    img, msk = next_pair()\n",
        "    \n",
        "    train_x[k] = img\n",
        "    train_y[k] = msk\n",
        "\n",
        "fig, axes = plt.subplots(2, 10, figsize=(20, 5))\n",
        "for k in range(10):\n",
        "    axes[0,k].set_axis_off()\n",
        "    axes[0,k].imshow(train_x[k])\n",
        "    axes[1,k].set_axis_off()\n",
        "    axes[1,k].imshow(train_y[k].squeeze())\n"
      ],
      "execution_count": 0,
      "outputs": []
    },
    {
      "metadata": {
        "colab_type": "code",
        "id": "iDDdH-zSnN9k",
        "scrolled": false,
        "colab": {}
      },
      "cell_type": "code",
      "source": [
        "input_layer = Input((w_size, w_size, 3))\n",
        "output_layer = build_model(input_layer, 16)\n",
        "model = Model(input_layer, output_layer)\n",
        "model.compile(loss=dice_loss, optimizer=Adam(lr=1e-3), metrics=[my_iou_metric])\n",
        "model.load_weights('./keras.weights', by_name=False)\n",
        "\n",
        "# model.summary()\n",
        "\n",
        "# while True:\n",
        "#     history = model.fit(train_x, train_y,\n",
        "#                         batch_size=32,\n",
        "#                         epochs=1,\n",
        "#                         verbose=1,\n",
        "#                         validation_split=0.1\n",
        "#                        )\n",
        "#     if history.history['my_iou_metric'][0] > 0.75:\n",
        "#         break\n"
      ],
      "execution_count": 0,
      "outputs": []
    }
  ]
}