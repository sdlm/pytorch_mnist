{
  "nbformat": 4,
  "nbformat_minor": 0,
  "metadata": {
    "colab": {
      "name": "keras_circles_experiment.ipynb",
      "version": "0.3.2",
      "provenance": [],
      "include_colab_link": true
    },
    "kernelspec": {
      "name": "python3",
      "display_name": "Python 3"
    }
  },
  "cells": [
    {
      "cell_type": "markdown",
      "metadata": {
        "id": "view-in-github",
        "colab_type": "text"
      },
      "source": [
        "<a href=\"https://colab.research.google.com/github/sdlm/pytorch_mnist/blob/master/keras_circles_experiment_01v1.ipynb\" target=\"_parent\"><img src=\"https://colab.research.google.com/assets/colab-badge.svg\" alt=\"Open In Colab\"/></a>"
      ]
    },
    {
      "metadata": {
        "id": "1_Yqdf6YR0Ld",
        "colab_type": "code",
        "colab": {}
      },
      "cell_type": "code",
      "source": [
        "import numpy as np\n",
        "from PIL import Image, ImageDraw"
      ],
      "execution_count": 0,
      "outputs": []
    },
    {
      "metadata": {
        "id": "cA6k83QVvIMK",
        "colab_type": "code",
        "colab": {}
      },
      "cell_type": "code",
      "source": [
        "DIAMETER = 20\n",
        "IMG_SIZE = 200\n",
        "MARGIN = 50\n",
        "TRAIN_COUNT = 10\n",
        "TEST_COUNT = 10\n",
        "EPOCHS_COUNT = 2"
      ],
      "execution_count": 0,
      "outputs": []
    },
    {
      "metadata": {
        "id": "Wh8x7JP8vAIO",
        "colab_type": "code",
        "colab": {}
      },
      "cell_type": "code",
      "source": [
        "def generate_image(is_not_empty: int, x: int, y: int) -> Image:\n",
        "    image = Image.new('L', (IMG_SIZE, IMG_SIZE))\n",
        "    draw = ImageDraw.Draw(image)\n",
        "    draw.rectangle([(0, 0), image.size], fill='black')\n",
        "    if is_not_empty:\n",
        "        coords = (x, y, x + DIAMETER, y + DIAMETER)\n",
        "        draw.ellipse(coords, fill='white')\n",
        "    return image\n",
        "\n",
        "\n",
        "def generate_dataset(count: int):\n",
        "    max_coord = IMG_SIZE - 2 * MARGIN\n",
        "    x_arr = MARGIN + np.random.randint(max_coord, size=count)\n",
        "    y_arr = MARGIN + np.random.randint(max_coord, size=count)\n",
        "    is_not_empty_arr = np.random.randint(2, size=count)\n",
        "    images = [\n",
        "        generate_image(is_not_empty_arr[i], x_arr[i], y_arr[i])\n",
        "        for i in range(count)\n",
        "    ]\n",
        "    arr = np.array([\n",
        "        np.array(im)\n",
        "        for im in images\n",
        "    ])\n",
        "    return arr, is_not_empty_arr"
      ],
      "execution_count": 0,
      "outputs": []
    },
    {
      "metadata": {
        "id": "WswjOaNHwg4t",
        "colab_type": "code",
        "colab": {}
      },
      "cell_type": "code",
      "source": [
        "train_images, train_labels = generate_dataset(1000)\n",
        "test_images, test_labels = generate_dataset(100)\n",
        "validation_images, validation_labels = generate_dataset(100)"
      ],
      "execution_count": 0,
      "outputs": []
    },
    {
      "metadata": {
        "id": "oK5kSHa8w9GK",
        "colab_type": "code",
        "colab": {}
      },
      "cell_type": "code",
      "source": [
        "shape = train_images.shape\n",
        "train_images = train_images.reshape(shape[0], shape[1] * shape[2])\n",
        "train_images = train_images.astype('float32') / 255\n",
        "\n",
        "shape = test_images.shape\n",
        "test_images = test_images.reshape(shape[0], shape[1] * shape[2])\n",
        "test_images = test_images.astype('float32') / 255\n",
        "\n",
        "shape = validation_images.shape\n",
        "validation_images = validation_images.reshape(shape[0], shape[1] * shape[2])\n",
        "validation_images = validation_images.astype('float32') / 255"
      ],
      "execution_count": 0,
      "outputs": []
    },
    {
      "metadata": {
        "id": "jAnDZPeLIbcc",
        "colab_type": "code",
        "colab": {}
      },
      "cell_type": "code",
      "source": [
        "from keras.models import Sequential\n",
        "from keras.layers import Dense"
      ],
      "execution_count": 0,
      "outputs": []
    },
    {
      "metadata": {
        "id": "_66csWTdR-vw",
        "colab_type": "code",
        "colab": {}
      },
      "cell_type": "code",
      "source": [
        "model = Sequential()\n",
        "model.add(Dense(16, activation='relu', input_shape=(train_images.shape[1],)))\n",
        "model.add(Dense(16, activation='relu'))\n",
        "model.add(Dense(1, activation='sigmoid'))\n",
        "model.compile(optimizer='rmsprop',\n",
        "                 loss='binary_crossentropy',\n",
        "                 metrics=['accuracy'])"
      ],
      "execution_count": 0,
      "outputs": []
    },
    {
      "metadata": {
        "id": "k04-iu-DSGIg",
        "colab_type": "code",
        "outputId": "ac2e2b3b-6242-4261-e7fd-47679f6152df",
        "colab": {
          "base_uri": "https://localhost:8080/",
          "height": 121
        }
      },
      "cell_type": "code",
      "source": [
        "history = model.fit(train_images, train_labels, epochs=EPOCHS_COUNT, batch_size=64, validation_data=(validation_images, validation_labels))\n",
        "results = model.evaluate(test_images, test_labels)"
      ],
      "execution_count": 78,
      "outputs": [
        {
          "output_type": "stream",
          "text": [
            "Train on 1000 samples, validate on 100 samples\n",
            "Epoch 1/2\n",
            "1000/1000 [==============================] - 1s 835us/step - loss: 0.5594 - acc: 0.7300 - val_loss: 0.3465 - val_acc: 1.0000\n",
            "Epoch 2/2\n",
            "1000/1000 [==============================] - 0s 375us/step - loss: 0.3695 - acc: 1.0000 - val_loss: 0.2797 - val_acc: 1.0000\n",
            "100/100 [==============================] - 0s 232us/step\n"
          ],
          "name": "stdout"
        }
      ]
    },
    {
      "metadata": {
        "id": "cr-fYquGzuJ7",
        "colab_type": "code",
        "outputId": "6e380dea-2259-43a7-c5c1-83b8c9f7c916",
        "colab": {
          "base_uri": "https://localhost:8080/",
          "height": 34
        }
      },
      "cell_type": "code",
      "source": [
        "results"
      ],
      "execution_count": 79,
      "outputs": [
        {
          "output_type": "execute_result",
          "data": {
            "text/plain": [
              "[0.2774134290218353, 1.0]"
            ]
          },
          "metadata": {
            "tags": []
          },
          "execution_count": 79
        }
      ]
    },
    {
      "metadata": {
        "id": "svw9iAr6Ihps",
        "colab_type": "code",
        "colab": {
          "base_uri": "https://localhost:8080/",
          "height": 191
        },
        "outputId": "b17a65e0-f909-45a3-ab90-3d6807103050"
      },
      "cell_type": "code",
      "source": [
        "model.predict(test_images)[:10]"
      ],
      "execution_count": 86,
      "outputs": [
        {
          "output_type": "execute_result",
          "data": {
            "text/plain": [
              "array([[0.97545445],\n",
              "       [0.96692455],\n",
              "       [0.9765236 ],\n",
              "       [0.9714533 ],\n",
              "       [0.9854248 ],\n",
              "       [0.9809352 ],\n",
              "       [0.49137312],\n",
              "       [0.49137312],\n",
              "       [0.49137312],\n",
              "       [0.9510456 ]], dtype=float32)"
            ]
          },
          "metadata": {
            "tags": []
          },
          "execution_count": 86
        }
      ]
    },
    {
      "metadata": {
        "id": "SLkME_s7Ik6K",
        "colab_type": "code",
        "colab": {
          "base_uri": "https://localhost:8080/",
          "height": 34
        },
        "outputId": "84e25dcc-ffe3-4c51-858a-53dd66313397"
      },
      "cell_type": "code",
      "source": [
        "test_labels[:10]"
      ],
      "execution_count": 85,
      "outputs": [
        {
          "output_type": "execute_result",
          "data": {
            "text/plain": [
              "array([1, 1, 1, 1, 1, 1, 0, 0, 0, 1])"
            ]
          },
          "metadata": {
            "tags": []
          },
          "execution_count": 85
        }
      ]
    },
    {
      "metadata": {
        "id": "ChPs1IyNJevW",
        "colab_type": "code",
        "colab": {
          "base_uri": "https://localhost:8080/",
          "height": 34
        },
        "outputId": "07b2d4f3-654e-4000-85ff-1f708d1b9fe4"
      },
      "cell_type": "code",
      "source": [
        "history_dict = history.history\n",
        "history_dict.keys()"
      ],
      "execution_count": 82,
      "outputs": [
        {
          "output_type": "execute_result",
          "data": {
            "text/plain": [
              "dict_keys(['val_loss', 'val_acc', 'loss', 'acc'])"
            ]
          },
          "metadata": {
            "tags": []
          },
          "execution_count": 82
        }
      ]
    },
    {
      "metadata": {
        "id": "j_QdXSmFJpfE",
        "colab_type": "code",
        "colab": {
          "base_uri": "https://localhost:8080/",
          "height": 376
        },
        "outputId": "b03fdb49-c7ad-4ede-95fb-5a857f2933d6"
      },
      "cell_type": "code",
      "source": [
        "import matplotlib.pyplot as plt\n",
        "# Plot training & validation loss values\n",
        "plt.plot(history.history['loss'])\n",
        "plt.plot(history.history['val_loss'])\n",
        "plt.title('Model loss')\n",
        "plt.ylabel('Loss')\n",
        "plt.xlabel('Epoch')\n",
        "plt.legend(['loss', 'val_loss'], loc='upper left')\n",
        "plt.show()"
      ],
      "execution_count": 83,
      "outputs": [
        {
          "output_type": "display_data",
          "data": {
            "image/png": "[encoded data removed]",
            "text/plain": [
              "<Figure size 576x396 with 1 Axes>"
            ]
          },
          "metadata": {
            "tags": []
          }
        }
      ]
    },
    {
      "metadata": {
        "id": "Y8ZhHLSAKARN",
        "colab_type": "code",
        "colab": {
          "base_uri": "https://localhost:8080/",
          "height": 376
        },
        "outputId": "5bead36a-c71f-4869-c43f-ee474d4a11af"
      },
      "cell_type": "code",
      "source": [
        "\n",
        "# Plot training & validation loss values\n",
        "plt.plot(history.history['acc'])\n",
        "plt.plot(history.history['val_acc'])\n",
        "plt.title('Model loss')\n",
        "plt.ylabel('Loss')\n",
        "plt.xlabel('Epoch')\n",
        "plt.legend(['acc', 'val_acc'], loc='upper left')\n",
        "plt.show()"
      ],
      "execution_count": 84,
      "outputs": [
        {
          "output_type": "display_data",
          "data": {
            "image/png": "[encoded data removed]",
            "text/plain": [
              "<Figure size 576x396 with 1 Axes>"
            ]
          },
          "metadata": {
            "tags": []
          }
        }
      ]
    }
  ]
}