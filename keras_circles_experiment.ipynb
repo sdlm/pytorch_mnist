{
  "nbformat": 4,
  "nbformat_minor": 0,
  "metadata": {
    "colab": {
      "name": "keras_circles_experiment.ipynb",
      "version": "0.3.2",
      "provenance": [],
      "include_colab_link": true
    },
    "kernelspec": {
      "name": "python3",
      "display_name": "Python 3"
    }
  },
  "cells": [
    {
      "cell_type": "markdown",
      "metadata": {
        "id": "view-in-github",
        "colab_type": "text"
      },
      "source": [
        "<a href=\"https://colab.research.google.com/github/sdlm/pytorch_mnist/blob/master/keras_circles_experiment.ipynb\" target=\"_parent\"><img src=\"https://colab.research.google.com/assets/colab-badge.svg\" alt=\"Open In Colab\"/></a>"
      ]
    },
    {
      "metadata": {
        "id": "1_Yqdf6YR0Ld",
        "colab_type": "code",
        "colab": {}
      },
      "cell_type": "code",
      "source": [
        "import numpy as np\n",
        "from PIL import Image, ImageDraw"
      ],
      "execution_count": 0,
      "outputs": []
    },
    {
      "metadata": {
        "id": "cA6k83QVvIMK",
        "colab_type": "code",
        "colab": {}
      },
      "cell_type": "code",
      "source": [
        "DIAMETER = 20\n",
        "IMG_SIZE = 200\n",
        "MARGIN = 50\n",
        "TRAIN_COUNT = 10\n",
        "TEST_COUNT = 10"
      ],
      "execution_count": 0,
      "outputs": []
    },
    {
      "metadata": {
        "id": "Wh8x7JP8vAIO",
        "colab_type": "code",
        "colab": {}
      },
      "cell_type": "code",
      "source": [
        "def generate_image(is_not_empty: int, x: int, y: int) -> Image:\n",
        "    image = Image.new('L', (IMG_SIZE, IMG_SIZE))\n",
        "    draw = ImageDraw.Draw(image)\n",
        "    draw.rectangle([(0, 0), image.size], fill='black')\n",
        "    if is_not_empty:\n",
        "        coords = (x, y, x + DIAMETER, y + DIAMETER)\n",
        "        draw.ellipse(coords, fill='white')\n",
        "    return image\n",
        "\n",
        "\n",
        "def generate_images(count: int):\n",
        "    max_coord = IMG_SIZE - 2 * MARGIN\n",
        "    x_arr = MARGIN + np.random.randint(max_coord, size=count)\n",
        "    y_arr = MARGIN + np.random.randint(max_coord, size=count)\n",
        "    is_not_empty_arr = np.random.randint(2, size=count)\n",
        "    images = [\n",
        "        generate_image(is_not_empty_arr[i], x_arr[i], y_arr[i])\n",
        "        for i in range(count)\n",
        "    ]\n",
        "    arr = np.array([\n",
        "        np.array(im)\n",
        "        for im in images\n",
        "    ])\n",
        "    return arr, is_not_empty_arr"
      ],
      "execution_count": 0,
      "outputs": []
    },
    {
      "metadata": {
        "id": "_66csWTdR-vw",
        "colab_type": "code",
        "colab": {}
      },
      "cell_type": "code",
      "source": [
        "model = models.Sequential()\n",
        "model.add(layers.Dense(16, activation='relu', input_shape=(10000,)))\n",
        "model.add(layers.Dense(16, activation='relu'))\n",
        "model.add(layers.Dense(1, activation='sigmoid'))\n",
        "model.compile(optimizer='rmsprop',\n",
        "              loss='binary_crossentropy',\n",
        "              metrics=['accuracy'])"
      ],
      "execution_count": 0,
      "outputs": []
    },
    {
      "metadata": {
        "id": "k04-iu-DSGIg",
        "colab_type": "code",
        "colab": {}
      },
      "cell_type": "code",
      "source": [
        "model.fit(x_train, y_train, epochs=4, batch_size=512)\n",
        "results = model.evaluate(x_test, y_test)"
      ],
      "execution_count": 0,
      "outputs": []
    }
  ]
}