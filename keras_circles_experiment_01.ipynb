{
  "nbformat": 4,
  "nbformat_minor": 0,
  "metadata": {
    "colab": {
      "name": "keras_circles_experiment.ipynb",
      "version": "0.3.2",
      "provenance": [],
      "include_colab_link": true
    },
    "kernelspec": {
      "name": "python3",
      "display_name": "Python 3"
    }
  },
  "cells": [
    {
      "cell_type": "markdown",
      "metadata": {
        "id": "view-in-github",
        "colab_type": "text"
      },
      "source": [
        "<a href=\"https://colab.research.google.com/github/sdlm/pytorch_mnist/blob/master/keras_circles_experiment_01.ipynb\" target=\"_parent\"><img src=\"https://colab.research.google.com/assets/colab-badge.svg\" alt=\"Open In Colab\"/></a>"
      ]
    },
    {
      "metadata": {
        "id": "1_Yqdf6YR0Ld",
        "colab_type": "code",
        "colab": {}
      },
      "cell_type": "code",
      "source": [
        "import numpy as np\n",
        "from PIL import Image, ImageDraw"
      ],
      "execution_count": 0,
      "outputs": []
    },
    {
      "metadata": {
        "id": "cA6k83QVvIMK",
        "colab_type": "code",
        "colab": {}
      },
      "cell_type": "code",
      "source": [
        "DIAMETER = 20\n",
        "IMG_SIZE = 200\n",
        "MARGIN = 50\n",
        "TRAIN_COUNT = 10\n",
        "TEST_COUNT = 10"
      ],
      "execution_count": 0,
      "outputs": []
    },
    {
      "metadata": {
        "id": "Wh8x7JP8vAIO",
        "colab_type": "code",
        "colab": {}
      },
      "cell_type": "code",
      "source": [
        "def generate_image(is_not_empty: int, x: int, y: int) -> Image:\n",
        "    image = Image.new('L', (IMG_SIZE, IMG_SIZE))\n",
        "    draw = ImageDraw.Draw(image)\n",
        "    draw.rectangle([(0, 0), image.size], fill='black')\n",
        "    if is_not_empty:\n",
        "        coords = (x, y, x + DIAMETER, y + DIAMETER)\n",
        "        draw.ellipse(coords, fill='white')\n",
        "    return image\n",
        "\n",
        "\n",
        "def generate_dataset(count: int):\n",
        "    max_coord = IMG_SIZE - 2 * MARGIN\n",
        "    x_arr = MARGIN + np.random.randint(max_coord, size=count)\n",
        "    y_arr = MARGIN + np.random.randint(max_coord, size=count)\n",
        "    is_not_empty_arr = np.random.randint(2, size=count)\n",
        "    images = [\n",
        "        generate_image(is_not_empty_arr[i], x_arr[i], y_arr[i])\n",
        "        for i in range(count)\n",
        "    ]\n",
        "    arr = np.array([\n",
        "        np.array(im)\n",
        "        for im in images\n",
        "    ])\n",
        "    return arr, is_not_empty_arr"
      ],
      "execution_count": 0,
      "outputs": []
    },
    {
      "metadata": {
        "id": "WswjOaNHwg4t",
        "colab_type": "code",
        "colab": {}
      },
      "cell_type": "code",
      "source": [
        "train_images, train_labels = generate_dataset(1000)\n",
        "test_images, test_labels = generate_dataset(100)"
      ],
      "execution_count": 0,
      "outputs": []
    },
    {
      "metadata": {
        "id": "MS_X9cqGw2BP",
        "colab_type": "code",
        "colab": {
          "base_uri": "https://localhost:8080/",
          "height": 34
        },
        "outputId": "a3ab4568-675c-4a5e-e097-cd8924c58335"
      },
      "cell_type": "code",
      "source": [
        "train_images.shape, train_labels.shape"
      ],
      "execution_count": 42,
      "outputs": [
        {
          "output_type": "execute_result",
          "data": {
            "text/plain": [
              "((1000, 200, 200), (1000,))"
            ]
          },
          "metadata": {
            "tags": []
          },
          "execution_count": 42
        }
      ]
    },
    {
      "metadata": {
        "id": "oK5kSHa8w9GK",
        "colab_type": "code",
        "colab": {}
      },
      "cell_type": "code",
      "source": [
        "shape = train_images.shape\n",
        "train_images = train_images.reshape(shape[0], shape[1] * shape[2])\n",
        "train_images = train_images.astype('float32') / 255\n",
        "\n",
        "shape = test_images.shape\n",
        "test_images = test_images.reshape(shape[0], shape[1] * shape[2])\n",
        "test_images = test_images.astype('float32') / 255"
      ],
      "execution_count": 0,
      "outputs": []
    },
    {
      "metadata": {
        "id": "_kaREGGryiUl",
        "colab_type": "code",
        "colab": {
          "base_uri": "https://localhost:8080/",
          "height": 34
        },
        "outputId": "dadeaef6-d33e-4468-eeb6-270adeecc8ed"
      },
      "cell_type": "code",
      "source": [
        "train_images.shape"
      ],
      "execution_count": 44,
      "outputs": [
        {
          "output_type": "execute_result",
          "data": {
            "text/plain": [
              "(1000, 40000)"
            ]
          },
          "metadata": {
            "tags": []
          },
          "execution_count": 44
        }
      ]
    },
    {
      "metadata": {
        "id": "_66csWTdR-vw",
        "colab_type": "code",
        "colab": {}
      },
      "cell_type": "code",
      "source": [
        "model = models.Sequential()\n",
        "model.add(layers.Dense(16, activation='relu', input_shape=(40000,)))\n",
        "model.add(layers.Dense(16, activation='relu'))\n",
        "model.add(layers.Dense(1, activation='sigmoid'))\n",
        "model.compile(optimizer='rmsprop',\n",
        "              loss='binary_crossentropy',\n",
        "              metrics=['accuracy'])"
      ],
      "execution_count": 0,
      "outputs": []
    },
    {
      "metadata": {
        "id": "k04-iu-DSGIg",
        "colab_type": "code",
        "colab": {
          "base_uri": "https://localhost:8080/",
          "height": 382
        },
        "outputId": "e8232787-145c-422d-db69-f9b4717f80d1"
      },
      "cell_type": "code",
      "source": [
        "model.fit(train_images, train_labels, epochs=10, batch_size=64)\n",
        "results = model.evaluate(test_images, test_labels)"
      ],
      "execution_count": 45,
      "outputs": [
        {
          "output_type": "stream",
          "text": [
            "Epoch 1/10\n",
            "1000/1000 [==============================] - 0s 400us/step - loss: 0.4003 - acc: 0.9910\n",
            "Epoch 2/10\n",
            "1000/1000 [==============================] - 0s 373us/step - loss: 0.3512 - acc: 1.0000\n",
            "Epoch 3/10\n",
            "1000/1000 [==============================] - 0s 385us/step - loss: 0.3434 - acc: 1.0000\n",
            "Epoch 4/10\n",
            "1000/1000 [==============================] - 0s 380us/step - loss: 0.3363 - acc: 1.0000\n",
            "Epoch 5/10\n",
            "1000/1000 [==============================] - 0s 389us/step - loss: 0.3291 - acc: 1.0000\n",
            "Epoch 6/10\n",
            "1000/1000 [==============================] - 0s 381us/step - loss: 0.3206 - acc: 1.0000\n",
            "Epoch 7/10\n",
            "1000/1000 [==============================] - 0s 390us/step - loss: 0.3114 - acc: 1.0000\n",
            "Epoch 8/10\n",
            "1000/1000 [==============================] - 0s 398us/step - loss: 0.3018 - acc: 1.0000\n",
            "Epoch 9/10\n",
            "1000/1000 [==============================] - 0s 385us/step - loss: 0.2917 - acc: 1.0000\n",
            "Epoch 10/10\n",
            "1000/1000 [==============================] - 0s 386us/step - loss: 0.2809 - acc: 1.0000\n",
            "100/100 [==============================] - 0s 234us/step\n"
          ],
          "name": "stdout"
        }
      ]
    },
    {
      "metadata": {
        "id": "cr-fYquGzuJ7",
        "colab_type": "code",
        "colab": {
          "base_uri": "https://localhost:8080/",
          "height": 34
        },
        "outputId": "889e8e2a-6db0-4b53-fe29-17894d825094"
      },
      "cell_type": "code",
      "source": [
        "results"
      ],
      "execution_count": 46,
      "outputs": [
        {
          "output_type": "execute_result",
          "data": {
            "text/plain": [
              "[0.21770869255065917, 1.0]"
            ]
          },
          "metadata": {
            "tags": []
          },
          "execution_count": 46
        }
      ]
    }
  ]
}