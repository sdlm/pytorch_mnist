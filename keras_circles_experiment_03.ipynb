{
  "nbformat": 4,
  "nbformat_minor": 0,
  "metadata": {
    "colab": {
      "name": "keras_circles_experiment.ipynb",
      "version": "0.3.2",
      "provenance": [],
      "include_colab_link": true
    },
    "kernelspec": {
      "name": "python3",
      "display_name": "Python 3"
    }
  },
  "cells": [
    {
      "cell_type": "markdown",
      "metadata": {
        "id": "view-in-github",
        "colab_type": "text"
      },
      "source": [
        "<a href=\"https://colab.research.google.com/github/sdlm/pytorch_mnist/blob/master/keras_circles_experiment_03.ipynb\" target=\"_parent\"><img src=\"https://colab.research.google.com/assets/colab-badge.svg\" alt=\"Open In Colab\"/></a>"
      ]
    },
    {
      "metadata": {
        "id": "1_Yqdf6YR0Ld",
        "colab_type": "code",
        "colab": {}
      },
      "cell_type": "code",
      "source": [
        "import numpy as np\n",
        "from PIL import Image, ImageDraw\n",
        "import matplotlib.pyplot as plt"
      ],
      "execution_count": 0,
      "outputs": []
    },
    {
      "metadata": {
        "id": "cA6k83QVvIMK",
        "colab_type": "code",
        "colab": {}
      },
      "cell_type": "code",
      "source": [
        "DIAMETER = 6\n",
        "IMG_SIZE = 64\n",
        "MARGIN = 8\n",
        "TRAIN_COUNT = 10000\n",
        "TEST_COUNT = 1000\n",
        "EPOCHS_COUNT = 10"
      ],
      "execution_count": 0,
      "outputs": []
    },
    {
      "metadata": {
        "id": "Wh8x7JP8vAIO",
        "colab_type": "code",
        "colab": {}
      },
      "cell_type": "code",
      "source": [
        "def generate_image(x: int, y: int) -> Image:\n",
        "    image = Image.new('L', (IMG_SIZE, IMG_SIZE))\n",
        "    draw = ImageDraw.Draw(image)\n",
        "    draw.rectangle([(0, 0), image.size], fill='black')\n",
        "    coords = (x, y, x + DIAMETER, y + DIAMETER)\n",
        "    draw.ellipse(coords, fill='white')\n",
        "    return image\n",
        "\n",
        "\n",
        "def generate_dataset(count: int):\n",
        "    max_coord = IMG_SIZE - 2 * MARGIN\n",
        "    x_arr = MARGIN + np.random.randint(max_coord, size=count)\n",
        "    y_arr = MARGIN + np.random.randint(max_coord, size=count)\n",
        "    images = [\n",
        "        generate_image(x_arr[i], y_arr[i])\n",
        "        for i in range(count)\n",
        "    ]\n",
        "    arr = np.array([\n",
        "        np.array(im)\n",
        "        for im in images\n",
        "    ])\n",
        "    x_center = x_arr + DIAMETER / 2\n",
        "    return arr, x_center"
      ],
      "execution_count": 0,
      "outputs": []
    },
    {
      "metadata": {
        "id": "WswjOaNHwg4t",
        "colab_type": "code",
        "colab": {}
      },
      "cell_type": "code",
      "source": [
        "x_train, y_train = generate_dataset(TRAIN_COUNT)\n",
        "x_test, y_test = generate_dataset(TEST_COUNT)"
      ],
      "execution_count": 0,
      "outputs": []
    },
    {
      "metadata": {
        "id": "MS_X9cqGw2BP",
        "colab_type": "code",
        "colab": {
          "base_uri": "https://localhost:8080/",
          "height": 34
        },
        "outputId": "cc0fbd5d-668b-421f-bc2d-555f2f118d15"
      },
      "cell_type": "code",
      "source": [
        "x_train.shape, y_train.shape"
      ],
      "execution_count": 762,
      "outputs": [
        {
          "output_type": "execute_result",
          "data": {
            "text/plain": [
              "((10000, 64, 64), (10000,))"
            ]
          },
          "metadata": {
            "tags": []
          },
          "execution_count": 762
        }
      ]
    },
    {
      "metadata": {
        "id": "6FT3janbA-JP",
        "colab_type": "code",
        "colab": {}
      },
      "cell_type": "code",
      "source": [
        "shape = x_train.shape\n",
        "x_train = x_train.reshape(shape[0], shape[1], shape[2], 1)"
      ],
      "execution_count": 0,
      "outputs": []
    },
    {
      "metadata": {
        "id": "tOdf4iWhGHB6",
        "colab_type": "code",
        "colab": {}
      },
      "cell_type": "code",
      "source": [
        "shape = x_test.shape\n",
        "x_test = x_test.reshape(shape[0], shape[1], shape[2], 1)"
      ],
      "execution_count": 0,
      "outputs": []
    },
    {
      "metadata": {
        "id": "oK5kSHa8w9GK",
        "colab_type": "code",
        "colab": {}
      },
      "cell_type": "code",
      "source": [
        "# shape = train_images.shape\n",
        "# train_images = train_images.reshape(shape[0], shape[1] * shape[2])\n",
        "# train_images = train_images.astype('float32') / 255\n",
        "\n",
        "# shape = test_images.shape\n",
        "# test_images = test_images.reshape(shape[0], shape[1] * shape[2])\n",
        "# test_images = test_images.astype('float32') / 255"
      ],
      "execution_count": 0,
      "outputs": []
    },
    {
      "metadata": {
        "id": "_kaREGGryiUl",
        "colab_type": "code",
        "colab": {
          "base_uri": "https://localhost:8080/",
          "height": 34
        },
        "outputId": "4f3d143d-8148-4b28-ab71-99acdd1568a4"
      },
      "cell_type": "code",
      "source": [
        "x_train.shape[1:]"
      ],
      "execution_count": 766,
      "outputs": [
        {
          "output_type": "execute_result",
          "data": {
            "text/plain": [
              "(64, 64, 1)"
            ]
          },
          "metadata": {
            "tags": []
          },
          "execution_count": 766
        }
      ]
    },
    {
      "metadata": {
        "id": "QxFXjwyoAJnH",
        "colab_type": "code",
        "colab": {}
      },
      "cell_type": "code",
      "source": [
        "from keras.models import Sequential\n",
        "from keras.layers import Dense, Dropout, Flatten\n",
        "from keras.layers import Conv2D, MaxPooling2D\n",
        "from keras import optimizers"
      ],
      "execution_count": 0,
      "outputs": []
    },
    {
      "metadata": {
        "id": "_66csWTdR-vw",
        "colab_type": "code",
        "colab": {}
      },
      "cell_type": "code",
      "source": [
        "# model = models.Sequential()\n",
        "# model.add(layers.Dense(16, activation='relu', input_shape=(40000,)))\n",
        "# model.add(layers.Dense(16, activation='relu'))\n",
        "# model.add(layers.Dense(1))"
      ],
      "execution_count": 0,
      "outputs": []
    },
    {
      "metadata": {
        "id": "y2teuyWv_do1",
        "colab_type": "code",
        "colab": {}
      },
      "cell_type": "code",
      "source": [
        "model = Sequential()\n",
        "model.add(Conv2D(32, kernel_size=(3, 3),\n",
        "                 activation='relu',\n",
        "                 input_shape=x_train.shape[1:]))\n",
        "# model.add(Conv2D(64, (3, 3), activation='relu'))\n",
        "model.add(MaxPooling2D(pool_size=(2, 2)))\n",
        "model.add(Dropout(0.25))\n",
        "model.add(Flatten())\n",
        "model.add(Dense(256, activation='relu'))\n",
        "model.add(Dropout(0.25))\n",
        "model.add(Dense(1))"
      ],
      "execution_count": 0,
      "outputs": []
    },
    {
      "metadata": {
        "id": "vWsWY_8A_pPw",
        "colab_type": "code",
        "colab": {}
      },
      "cell_type": "code",
      "source": [
        "# optimizers.SGD(lr=1e-4, momentum=0.8, decay=1e-6)\n",
        "# optimizers.rmsprop(lr=0.001, decay=1e-6)\n",
        "model.compile(optimizer=optimizers.SGD(lr=1e-5, momentum=0.85, decay=1e-8),\n",
        "                 loss='mse',\n",
        "                 metrics=['mae'])"
      ],
      "execution_count": 0,
      "outputs": []
    },
    {
      "metadata": {
        "id": "k04-iu-DSGIg",
        "colab_type": "code",
        "colab": {
          "base_uri": "https://localhost:8080/",
          "height": 364
        },
        "outputId": "82cba4ea-6ab2-4364-b34d-a52fe6029c1e"
      },
      "cell_type": "code",
      "source": [
        "history = model.fit(x_train, y_train, epochs=EPOCHS_COUNT, batch_size=128)"
      ],
      "execution_count": 771,
      "outputs": [
        {
          "output_type": "stream",
          "text": [
            "Epoch 1/10\n",
            "10000/10000 [==============================] - 51s 5ms/step - loss: 96.4568 - mean_absolute_error: 6.3319\n",
            "Epoch 2/10\n",
            "10000/10000 [==============================] - 47s 5ms/step - loss: 17.9876 - mean_absolute_error: 3.2683\n",
            "Epoch 3/10\n",
            "10000/10000 [==============================] - 47s 5ms/step - loss: 16.1066 - mean_absolute_error: 3.0986\n",
            "Epoch 4/10\n",
            "10000/10000 [==============================] - 47s 5ms/step - loss: 14.2517 - mean_absolute_error: 2.9079\n",
            "Epoch 5/10\n",
            "10000/10000 [==============================] - 46s 5ms/step - loss: 13.0153 - mean_absolute_error: 2.7781\n",
            "Epoch 6/10\n",
            "10000/10000 [==============================] - 47s 5ms/step - loss: 12.4101 - mean_absolute_error: 2.7136\n",
            "Epoch 7/10\n",
            "10000/10000 [==============================] - 47s 5ms/step - loss: 11.6132 - mean_absolute_error: 2.6318\n",
            "Epoch 8/10\n",
            "10000/10000 [==============================] - 47s 5ms/step - loss: 11.3943 - mean_absolute_error: 2.6055\n",
            "Epoch 9/10\n",
            "10000/10000 [==============================] - 46s 5ms/step - loss: 10.9119 - mean_absolute_error: 2.5169\n",
            "Epoch 10/10\n",
            "10000/10000 [==============================] - 47s 5ms/step - loss: 10.4923 - mean_absolute_error: 2.4804\n"
          ],
          "name": "stdout"
        }
      ]
    },
    {
      "metadata": {
        "id": "cr-fYquGzuJ7",
        "colab_type": "code",
        "colab": {
          "base_uri": "https://localhost:8080/",
          "height": 52
        },
        "outputId": "eb260687-556f-4791-abd2-e92fc40da96d"
      },
      "cell_type": "code",
      "source": [
        "model.evaluate(x_test, y_test)"
      ],
      "execution_count": 772,
      "outputs": [
        {
          "output_type": "stream",
          "text": [
            "1000/1000 [==============================] - 3s 3ms/step\n"
          ],
          "name": "stdout"
        },
        {
          "output_type": "execute_result",
          "data": {
            "text/plain": [
              "[1.937919334411621, 1.2159155931472778]"
            ]
          },
          "metadata": {
            "tags": []
          },
          "execution_count": 772
        }
      ]
    },
    {
      "metadata": {
        "id": "3zgFUE04K7yg",
        "colab_type": "code",
        "colab": {
          "base_uri": "https://localhost:8080/",
          "height": 104
        },
        "outputId": "1156821c-7f43-45ac-eb39-f06b6e6a8867"
      },
      "cell_type": "code",
      "source": [
        "model.predict(x_test)[:5]"
      ],
      "execution_count": 773,
      "outputs": [
        {
          "output_type": "execute_result",
          "data": {
            "text/plain": [
              "array([[49.751835 ],\n",
              "       [ 9.5601635],\n",
              "       [23.660887 ],\n",
              "       [53.44277  ],\n",
              "       [22.722523 ]], dtype=float32)"
            ]
          },
          "metadata": {
            "tags": []
          },
          "execution_count": 773
        }
      ]
    },
    {
      "metadata": {
        "id": "3ISHX2LwL1Cv",
        "colab_type": "code",
        "colab": {
          "base_uri": "https://localhost:8080/",
          "height": 34
        },
        "outputId": "39c56188-2e8e-4707-a28e-416e05930822"
      },
      "cell_type": "code",
      "source": [
        "y_test[:5]"
      ],
      "execution_count": 774,
      "outputs": [
        {
          "output_type": "execute_result",
          "data": {
            "text/plain": [
              "array([50., 11., 25., 54., 25.])"
            ]
          },
          "metadata": {
            "tags": []
          },
          "execution_count": 774
        }
      ]
    },
    {
      "metadata": {
        "id": "MbL_acsW7Q6V",
        "colab_type": "code",
        "colab": {
          "base_uri": "https://localhost:8080/",
          "height": 34
        },
        "outputId": "fa99abe8-52c2-451a-8d00-47f62c4591e4"
      },
      "cell_type": "code",
      "source": [
        "history.history.keys()"
      ],
      "execution_count": 775,
      "outputs": [
        {
          "output_type": "execute_result",
          "data": {
            "text/plain": [
              "dict_keys(['loss', 'mean_absolute_error'])"
            ]
          },
          "metadata": {
            "tags": []
          },
          "execution_count": 775
        }
      ]
    },
    {
      "metadata": {
        "id": "GeGoLN_X7JOp",
        "colab_type": "code",
        "colab": {
          "base_uri": "https://localhost:8080/",
          "height": 376
        },
        "outputId": "ee3e5294-96c5-4e6c-a864-b49fd7a805a2"
      },
      "cell_type": "code",
      "source": [
        "# Plot training & validation loss values\n",
        "plt.plot(history.history['loss'])\n",
        "plt.plot(history.history['mean_absolute_error'])\n",
        "plt.title('Model loss')\n",
        "plt.ylabel('Loss')\n",
        "plt.xlabel('Epoch')\n",
        "plt.legend(['Train', 'Test'], loc='upper left')\n",
        "plt.show()"
      ],
      "execution_count": 776,
      "outputs": [
        {
          "output_type": "display_data",
          "data": {
            "image/png": "[encoded data removed]",
            "text/plain": [
              "<Figure size 576x396 with 1 Axes>"
            ]
          },
          "metadata": {
            "tags": []
          }
        }
      ]
    }
  ]
}