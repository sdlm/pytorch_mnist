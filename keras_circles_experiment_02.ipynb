{
  "nbformat": 4,
  "nbformat_minor": 0,
  "metadata": {
    "colab": {
      "name": "keras_circles_experiment.ipynb",
      "version": "0.3.2",
      "provenance": [],
      "include_colab_link": true
    },
    "kernelspec": {
      "name": "python3",
      "display_name": "Python 3"
    }
  },
  "cells": [
    {
      "cell_type": "markdown",
      "metadata": {
        "id": "view-in-github",
        "colab_type": "text"
      },
      "source": [
        "<a href=\"https://colab.research.google.com/github/sdlm/pytorch_mnist/blob/master/keras_circles_experiment_02.ipynb\" target=\"_parent\"><img src=\"https://colab.research.google.com/assets/colab-badge.svg\" alt=\"Open In Colab\"/></a>"
      ]
    },
    {
      "metadata": {
        "id": "1_Yqdf6YR0Ld",
        "colab_type": "code",
        "colab": {}
      },
      "cell_type": "code",
      "source": [
        "import numpy as np\n",
        "from PIL import Image, ImageDraw\n",
        "import matplotlib.pyplot as plt"
      ],
      "execution_count": 0,
      "outputs": []
    },
    {
      "metadata": {
        "id": "cA6k83QVvIMK",
        "colab_type": "code",
        "colab": {}
      },
      "cell_type": "code",
      "source": [
        "DIAMETER = 4\n",
        "IMG_SIZE = 50\n",
        "MARGIN = 6\n",
        "TRAIN_COUNT = 1000\n",
        "TEST_COUNT = 100\n",
        "EPOCHS_COUNT = 5"
      ],
      "execution_count": 0,
      "outputs": []
    },
    {
      "metadata": {
        "id": "Wh8x7JP8vAIO",
        "colab_type": "code",
        "colab": {}
      },
      "cell_type": "code",
      "source": [
        "def generate_image(x: int, y: int) -> Image:\n",
        "    image = Image.new('L', (IMG_SIZE, IMG_SIZE))\n",
        "    draw = ImageDraw.Draw(image)\n",
        "    draw.rectangle([(0, 0), image.size], fill='black')\n",
        "    coords = (x, y, x + DIAMETER, y + DIAMETER)\n",
        "    draw.ellipse(coords, fill='white')\n",
        "    return image\n",
        "\n",
        "\n",
        "def generate_dataset(count: int):\n",
        "    max_coord = IMG_SIZE - 2 * MARGIN\n",
        "    x_arr = MARGIN + np.random.randint(max_coord, size=count)\n",
        "    y_arr = MARGIN + np.random.randint(max_coord, size=count)\n",
        "    images = [\n",
        "        generate_image(x_arr[i], y_arr[i])\n",
        "        for i in range(count)\n",
        "    ]\n",
        "    arr = np.array([\n",
        "        np.array(im)\n",
        "        for im in images\n",
        "    ])\n",
        "    x_center = x_arr + DIAMETER / 2\n",
        "    return arr, x_center"
      ],
      "execution_count": 0,
      "outputs": []
    },
    {
      "metadata": {
        "id": "WswjOaNHwg4t",
        "colab_type": "code",
        "colab": {}
      },
      "cell_type": "code",
      "source": [
        "x_train, y_train = generate_dataset(TRAIN_COUNT)\n",
        "x_test, y_test = generate_dataset(TEST_COUNT)"
      ],
      "execution_count": 0,
      "outputs": []
    },
    {
      "metadata": {
        "id": "MS_X9cqGw2BP",
        "colab_type": "code",
        "colab": {
          "base_uri": "https://localhost:8080/",
          "height": 34
        },
        "outputId": "5c8091c9-b4e0-4014-fce1-0c906c965aa9"
      },
      "cell_type": "code",
      "source": [
        "x_train.shape, y_train.shape"
      ],
      "execution_count": 395,
      "outputs": [
        {
          "output_type": "execute_result",
          "data": {
            "text/plain": [
              "((1000, 50, 50), (1000,))"
            ]
          },
          "metadata": {
            "tags": []
          },
          "execution_count": 395
        }
      ]
    },
    {
      "metadata": {
        "id": "6FT3janbA-JP",
        "colab_type": "code",
        "colab": {}
      },
      "cell_type": "code",
      "source": [
        "shape = x_train.shape\n",
        "x_train = x_train.reshape(shape[0], shape[1], shape[2], 1)"
      ],
      "execution_count": 0,
      "outputs": []
    },
    {
      "metadata": {
        "id": "tOdf4iWhGHB6",
        "colab_type": "code",
        "colab": {}
      },
      "cell_type": "code",
      "source": [
        "shape = x_test.shape\n",
        "x_test = x_test.reshape(shape[0], shape[1], shape[2], 1)"
      ],
      "execution_count": 0,
      "outputs": []
    },
    {
      "metadata": {
        "id": "oK5kSHa8w9GK",
        "colab_type": "code",
        "colab": {}
      },
      "cell_type": "code",
      "source": [
        "# shape = train_images.shape\n",
        "# train_images = train_images.reshape(shape[0], shape[1] * shape[2])\n",
        "# train_images = train_images.astype('float32') / 255\n",
        "\n",
        "# shape = test_images.shape\n",
        "# test_images = test_images.reshape(shape[0], shape[1] * shape[2])\n",
        "# test_images = test_images.astype('float32') / 255"
      ],
      "execution_count": 0,
      "outputs": []
    },
    {
      "metadata": {
        "id": "_kaREGGryiUl",
        "colab_type": "code",
        "colab": {
          "base_uri": "https://localhost:8080/",
          "height": 34
        },
        "outputId": "36a5a0f8-e7b6-4164-e598-a58c8d9b244c"
      },
      "cell_type": "code",
      "source": [
        "x_train.shape[1:]"
      ],
      "execution_count": 399,
      "outputs": [
        {
          "output_type": "execute_result",
          "data": {
            "text/plain": [
              "(50, 50, 1)"
            ]
          },
          "metadata": {
            "tags": []
          },
          "execution_count": 399
        }
      ]
    },
    {
      "metadata": {
        "id": "QxFXjwyoAJnH",
        "colab_type": "code",
        "colab": {}
      },
      "cell_type": "code",
      "source": [
        "from keras.models import Sequential\n",
        "from keras.layers import Dense, Dropout, Flatten\n",
        "from keras.layers import Conv2D, MaxPooling2D\n",
        "from keras import optimizers"
      ],
      "execution_count": 0,
      "outputs": []
    },
    {
      "metadata": {
        "id": "_66csWTdR-vw",
        "colab_type": "code",
        "colab": {}
      },
      "cell_type": "code",
      "source": [
        "# model = models.Sequential()\n",
        "# model.add(layers.Dense(16, activation='relu', input_shape=(40000,)))\n",
        "# model.add(layers.Dense(16, activation='relu'))\n",
        "# model.add(layers.Dense(1))"
      ],
      "execution_count": 0,
      "outputs": []
    },
    {
      "metadata": {
        "id": "y2teuyWv_do1",
        "colab_type": "code",
        "colab": {}
      },
      "cell_type": "code",
      "source": [
        "model = Sequential()\n",
        "model.add(Conv2D(32, kernel_size=(3, 3),\n",
        "                 activation='relu',\n",
        "                 input_shape=x_train.shape[1:]))\n",
        "model.add(Conv2D(64, (3, 3), activation='relu'))\n",
        "model.add(MaxPooling2D(pool_size=(2, 2)))\n",
        "model.add(Dropout(0.25))\n",
        "model.add(Flatten())\n",
        "model.add(Dense(128, activation='relu'))\n",
        "model.add(Dropout(0.5))\n",
        "model.add(Dense(1))"
      ],
      "execution_count": 0,
      "outputs": []
    },
    {
      "metadata": {
        "id": "vWsWY_8A_pPw",
        "colab_type": "code",
        "colab": {}
      },
      "cell_type": "code",
      "source": [
        "# optimizers.SGD(lr=1e-4, momentum=0.8, decay=1e-6)\n",
        "# optimizers.rmsprop(lr=0.001, decay=1e-6)\n",
        "model.compile(optimizer=optimizers.SGD(lr=1e-5, momentum=0.5, decay=1e-8),\n",
        "                 loss='mse',\n",
        "                 metrics=['mae'])"
      ],
      "execution_count": 0,
      "outputs": []
    },
    {
      "metadata": {
        "id": "k04-iu-DSGIg",
        "colab_type": "code",
        "colab": {
          "base_uri": "https://localhost:8080/",
          "height": 191
        },
        "outputId": "e6a4f240-59d9-4dac-b655-8d613d84b298"
      },
      "cell_type": "code",
      "source": [
        "history = model.fit(x_train, y_train, epochs=EPOCHS_COUNT, batch_size=128)"
      ],
      "execution_count": 404,
      "outputs": [
        {
          "output_type": "stream",
          "text": [
            "Epoch 1/5\n",
            "1000/1000 [==============================] - 13s 13ms/step - loss: 483.3793 - mean_absolute_error: 17.9843\n",
            "Epoch 2/5\n",
            "1000/1000 [==============================] - 11s 11ms/step - loss: 82.2489 - mean_absolute_error: 7.0431\n",
            "Epoch 3/5\n",
            "1000/1000 [==============================] - 11s 11ms/step - loss: 62.4836 - mean_absolute_error: 6.2321\n",
            "Epoch 4/5\n",
            "1000/1000 [==============================] - 11s 11ms/step - loss: 59.0148 - mean_absolute_error: 5.9763\n",
            "Epoch 5/5\n",
            "1000/1000 [==============================] - 11s 11ms/step - loss: 54.7991 - mean_absolute_error: 5.8435\n"
          ],
          "name": "stdout"
        }
      ]
    },
    {
      "metadata": {
        "id": "cr-fYquGzuJ7",
        "colab_type": "code",
        "colab": {
          "base_uri": "https://localhost:8080/",
          "height": 52
        },
        "outputId": "3956f76d-7488-478f-c4ab-3d88bc450eb2"
      },
      "cell_type": "code",
      "source": [
        "model.evaluate(x_test, y_test)"
      ],
      "execution_count": 405,
      "outputs": [
        {
          "output_type": "stream",
          "text": [
            "100/100 [==============================] - 1s 9ms/step\n"
          ],
          "name": "stdout"
        },
        {
          "output_type": "execute_result",
          "data": {
            "text/plain": [
              "[6.766364364624024, 1.9609294509887696]"
            ]
          },
          "metadata": {
            "tags": []
          },
          "execution_count": 405
        }
      ]
    },
    {
      "metadata": {
        "id": "3zgFUE04K7yg",
        "colab_type": "code",
        "colab": {
          "base_uri": "https://localhost:8080/",
          "height": 104
        },
        "outputId": "8abc19b4-a652-4c3a-b87f-291a7b528c74"
      },
      "cell_type": "code",
      "source": [
        "model.predict(x_test)[:5]"
      ],
      "execution_count": 406,
      "outputs": [
        {
          "output_type": "execute_result",
          "data": {
            "text/plain": [
              "array([[ 5.4653993],\n",
              "       [14.373097 ],\n",
              "       [19.191103 ],\n",
              "       [21.811525 ],\n",
              "       [42.79171  ]], dtype=float32)"
            ]
          },
          "metadata": {
            "tags": []
          },
          "execution_count": 406
        }
      ]
    },
    {
      "metadata": {
        "id": "3ISHX2LwL1Cv",
        "colab_type": "code",
        "colab": {
          "base_uri": "https://localhost:8080/",
          "height": 34
        },
        "outputId": "3b3a1070-9699-43db-cf93-1ca7497e49d3"
      },
      "cell_type": "code",
      "source": [
        "y_test[:5]"
      ],
      "execution_count": 407,
      "outputs": [
        {
          "output_type": "execute_result",
          "data": {
            "text/plain": [
              "array([ 8., 15., 20., 23., 40.])"
            ]
          },
          "metadata": {
            "tags": []
          },
          "execution_count": 407
        }
      ]
    },
    {
      "metadata": {
        "id": "MbL_acsW7Q6V",
        "colab_type": "code",
        "colab": {
          "base_uri": "https://localhost:8080/",
          "height": 34
        },
        "outputId": "0aaf6966-eba6-4a44-82a4-5db76dd51dc1"
      },
      "cell_type": "code",
      "source": [
        "history.history.keys()"
      ],
      "execution_count": 408,
      "outputs": [
        {
          "output_type": "execute_result",
          "data": {
            "text/plain": [
              "dict_keys(['loss', 'mean_absolute_error'])"
            ]
          },
          "metadata": {
            "tags": []
          },
          "execution_count": 408
        }
      ]
    },
    {
      "metadata": {
        "id": "GeGoLN_X7JOp",
        "colab_type": "code",
        "colab": {
          "base_uri": "https://localhost:8080/",
          "height": 376
        },
        "outputId": "c29106ab-d6b0-403c-bd5c-66f35db18662"
      },
      "cell_type": "code",
      "source": [
        "# Plot training & validation loss values\n",
        "plt.plot(history.history['loss'])\n",
        "plt.plot(history.history['mean_absolute_error'])\n",
        "plt.title('Model loss')\n",
        "plt.ylabel('Loss')\n",
        "plt.xlabel('Epoch')\n",
        "plt.legend(['Train', 'Test'], loc='upper left')\n",
        "plt.show()"
      ],
      "execution_count": 409,
      "outputs": [
        {
          "output_type": "display_data",
          "data": {
            "image/png": "[encoded data removed]",
            "text/plain": [
              "<Figure size 576x396 with 1 Axes>"
            ]
          },
          "metadata": {
            "tags": []
          }
        }
      ]
    }
  ]
}