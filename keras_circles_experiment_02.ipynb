{
  "nbformat": 4,
  "nbformat_minor": 0,
  "metadata": {
    "colab": {
      "name": "keras_circles_experiment.ipynb",
      "version": "0.3.2",
      "provenance": [],
      "include_colab_link": true
    },
    "kernelspec": {
      "name": "python3",
      "display_name": "Python 3"
    }
  },
  "cells": [
    {
      "cell_type": "markdown",
      "metadata": {
        "id": "view-in-github",
        "colab_type": "text"
      },
      "source": [
        "<a href=\"https://colab.research.google.com/github/sdlm/pytorch_mnist/blob/master/keras_circles_experiment_02.ipynb\" target=\"_parent\"><img src=\"https://colab.research.google.com/assets/colab-badge.svg\" alt=\"Open In Colab\"/></a>"
      ]
    },
    {
      "metadata": {
        "id": "1_Yqdf6YR0Ld",
        "colab_type": "code",
        "colab": {}
      },
      "cell_type": "code",
      "source": [
        "import numpy as np\n",
        "from PIL import Image, ImageDraw\n",
        "import matplotlib.pyplot as plt"
      ],
      "execution_count": 0,
      "outputs": []
    },
    {
      "metadata": {
        "id": "cA6k83QVvIMK",
        "colab_type": "code",
        "colab": {}
      },
      "cell_type": "code",
      "source": [
        "DIAMETER = 4\n",
        "IMG_SIZE = 50\n",
        "MARGIN = 6\n",
        "TRAIN_COUNT = 1000\n",
        "TEST_COUNT = 100\n",
        "EPOCHS_COUNT = 20"
      ],
      "execution_count": 0,
      "outputs": []
    },
    {
      "metadata": {
        "id": "Wh8x7JP8vAIO",
        "colab_type": "code",
        "colab": {}
      },
      "cell_type": "code",
      "source": [
        "def generate_image(x: int, y: int) -> Image:\n",
        "    image = Image.new('L', (IMG_SIZE, IMG_SIZE))\n",
        "    draw = ImageDraw.Draw(image)\n",
        "    draw.rectangle([(0, 0), image.size], fill='black')\n",
        "    coords = (x, y, x + DIAMETER, y + DIAMETER)\n",
        "    draw.ellipse(coords, fill='white')\n",
        "    return image\n",
        "\n",
        "\n",
        "def generate_dataset(count: int):\n",
        "    max_coord = IMG_SIZE - 2 * MARGIN\n",
        "    x_arr = MARGIN + np.random.randint(max_coord, size=count)\n",
        "    y_arr = MARGIN + np.random.randint(max_coord, size=count)\n",
        "    images = [\n",
        "        generate_image(x_arr[i], y_arr[i])\n",
        "        for i in range(count)\n",
        "    ]\n",
        "    arr = np.array([\n",
        "        np.array(im)\n",
        "        for im in images\n",
        "    ])\n",
        "    x_center = x_arr + DIAMETER / 2\n",
        "    return arr, x_center"
      ],
      "execution_count": 0,
      "outputs": []
    },
    {
      "metadata": {
        "id": "WswjOaNHwg4t",
        "colab_type": "code",
        "colab": {}
      },
      "cell_type": "code",
      "source": [
        "x_train, y_train = generate_dataset(TRAIN_COUNT)\n",
        "x_test, y_test = generate_dataset(TEST_COUNT)"
      ],
      "execution_count": 0,
      "outputs": []
    },
    {
      "metadata": {
        "id": "MS_X9cqGw2BP",
        "colab_type": "code",
        "colab": {
          "base_uri": "https://localhost:8080/",
          "height": 34
        },
        "outputId": "b3b3aa7e-55a0-4d40-bc7f-14041c78c1dd"
      },
      "cell_type": "code",
      "source": [
        "x_train.shape, y_train.shape"
      ],
      "execution_count": 333,
      "outputs": [
        {
          "output_type": "execute_result",
          "data": {
            "text/plain": [
              "((1000, 50, 50), (1000,))"
            ]
          },
          "metadata": {
            "tags": []
          },
          "execution_count": 333
        }
      ]
    },
    {
      "metadata": {
        "id": "6FT3janbA-JP",
        "colab_type": "code",
        "colab": {}
      },
      "cell_type": "code",
      "source": [
        "shape = x_train.shape\n",
        "x_train = x_train.reshape(shape[0], shape[1], shape[2], 1)"
      ],
      "execution_count": 0,
      "outputs": []
    },
    {
      "metadata": {
        "id": "tOdf4iWhGHB6",
        "colab_type": "code",
        "colab": {}
      },
      "cell_type": "code",
      "source": [
        "shape = x_test.shape\n",
        "x_test = x_test.reshape(shape[0], shape[1], shape[2], 1)"
      ],
      "execution_count": 0,
      "outputs": []
    },
    {
      "metadata": {
        "id": "oK5kSHa8w9GK",
        "colab_type": "code",
        "colab": {}
      },
      "cell_type": "code",
      "source": [
        "# shape = train_images.shape\n",
        "# train_images = train_images.reshape(shape[0], shape[1] * shape[2])\n",
        "# train_images = train_images.astype('float32') / 255\n",
        "\n",
        "# shape = test_images.shape\n",
        "# test_images = test_images.reshape(shape[0], shape[1] * shape[2])\n",
        "# test_images = test_images.astype('float32') / 255"
      ],
      "execution_count": 0,
      "outputs": []
    },
    {
      "metadata": {
        "id": "_kaREGGryiUl",
        "colab_type": "code",
        "colab": {
          "base_uri": "https://localhost:8080/",
          "height": 34
        },
        "outputId": "d2399e57-e94f-4a29-99b5-39a4693df2f7"
      },
      "cell_type": "code",
      "source": [
        "x_train.shape[1:]"
      ],
      "execution_count": 337,
      "outputs": [
        {
          "output_type": "execute_result",
          "data": {
            "text/plain": [
              "(50, 50, 1)"
            ]
          },
          "metadata": {
            "tags": []
          },
          "execution_count": 337
        }
      ]
    },
    {
      "metadata": {
        "id": "QxFXjwyoAJnH",
        "colab_type": "code",
        "colab": {}
      },
      "cell_type": "code",
      "source": [
        "from keras.models import Sequential\n",
        "from keras.layers import Dense, Dropout, Flatten\n",
        "from keras.layers import Conv2D, MaxPooling2D\n",
        "from keras import optimizers"
      ],
      "execution_count": 0,
      "outputs": []
    },
    {
      "metadata": {
        "id": "_66csWTdR-vw",
        "colab_type": "code",
        "colab": {}
      },
      "cell_type": "code",
      "source": [
        "# model = models.Sequential()\n",
        "# model.add(layers.Dense(16, activation='relu', input_shape=(40000,)))\n",
        "# model.add(layers.Dense(16, activation='relu'))\n",
        "# model.add(layers.Dense(1))"
      ],
      "execution_count": 0,
      "outputs": []
    },
    {
      "metadata": {
        "id": "y2teuyWv_do1",
        "colab_type": "code",
        "colab": {}
      },
      "cell_type": "code",
      "source": [
        "model = Sequential()\n",
        "model.add(Conv2D(32, kernel_size=(3, 3),\n",
        "                 activation='relu',\n",
        "                 input_shape=x_train.shape[1:]))\n",
        "model.add(Conv2D(64, (3, 3), activation='relu'))\n",
        "model.add(MaxPooling2D(pool_size=(2, 2)))\n",
        "model.add(Dropout(0.25))\n",
        "model.add(Flatten())\n",
        "model.add(Dense(32, activation='relu'))\n",
        "model.add(Dropout(0.5))\n",
        "model.add(Dense(1))"
      ],
      "execution_count": 0,
      "outputs": []
    },
    {
      "metadata": {
        "id": "vWsWY_8A_pPw",
        "colab_type": "code",
        "colab": {}
      },
      "cell_type": "code",
      "source": [
        "# optimizers.SGD(lr=0.01, momentum=0.0, decay=0.0, nesterov=False)\n",
        "# optimizers.rmsprop(lr=0.001, decay=1e-6)\n",
        "model.compile(optimizer=optimizers.SGD(lr=1e-4, momentum=0.8, decay=1e-6),\n",
        "              loss='mse',\n",
        "              metrics=['mae'])"
      ],
      "execution_count": 0,
      "outputs": []
    },
    {
      "metadata": {
        "id": "k04-iu-DSGIg",
        "colab_type": "code",
        "colab": {
          "base_uri": "https://localhost:8080/",
          "height": 712
        },
        "outputId": "5125eacc-45de-45f5-8066-064549412627"
      },
      "cell_type": "code",
      "source": [
        "history = model.fit(x_train, y_train, epochs=EPOCHS_COUNT, batch_size=128)"
      ],
      "execution_count": 342,
      "outputs": [
        {
          "output_type": "stream",
          "text": [
            "Epoch 1/20\n",
            "1000/1000 [==============================] - 11s 11ms/step - loss: 591.9203 - mean_absolute_error: 19.6743\n",
            "Epoch 2/20\n",
            "1000/1000 [==============================] - 10s 10ms/step - loss: 755.0050 - mean_absolute_error: 23.3687\n",
            "Epoch 3/20\n",
            "1000/1000 [==============================] - 10s 10ms/step - loss: 821.8475 - mean_absolute_error: 26.4366\n",
            "Epoch 4/20\n",
            "1000/1000 [==============================] - 10s 10ms/step - loss: 792.3879 - mean_absolute_error: 25.8774\n",
            "Epoch 5/20\n",
            "1000/1000 [==============================] - 11s 11ms/step - loss: 762.4250 - mean_absolute_error: 24.1600\n",
            "Epoch 6/20\n",
            "1000/1000 [==============================] - 11s 11ms/step - loss: 791.7710 - mean_absolute_error: 25.8529\n",
            "Epoch 7/20\n",
            "1000/1000 [==============================] - 10s 10ms/step - loss: 780.9816 - mean_absolute_error: 25.6457\n",
            "Epoch 8/20\n",
            "1000/1000 [==============================] - 10s 10ms/step - loss: 768.9839 - mean_absolute_error: 25.4112\n",
            "Epoch 9/20\n",
            "1000/1000 [==============================] - 10s 10ms/step - loss: 750.8635 - mean_absolute_error: 25.0487\n",
            "Epoch 10/20\n",
            "1000/1000 [==============================] - 10s 10ms/step - loss: 643.8849 - mean_absolute_error: 22.6744\n",
            "Epoch 11/20\n",
            "1000/1000 [==============================] - 10s 10ms/step - loss: 391.9983 - mean_absolute_error: 16.3921\n",
            "Epoch 12/20\n",
            "1000/1000 [==============================] - 10s 10ms/step - loss: 353.1554 - mean_absolute_error: 15.3556\n",
            "Epoch 13/20\n",
            "1000/1000 [==============================] - 10s 10ms/step - loss: 351.0185 - mean_absolute_error: 15.3526\n",
            "Epoch 14/20\n",
            "1000/1000 [==============================] - 10s 10ms/step - loss: 327.3197 - mean_absolute_error: 14.6020\n",
            "Epoch 15/20\n",
            "1000/1000 [==============================] - 10s 10ms/step - loss: 319.4403 - mean_absolute_error: 14.7091\n",
            "Epoch 16/20\n",
            "1000/1000 [==============================] - 10s 10ms/step - loss: 322.5691 - mean_absolute_error: 14.5158\n",
            "Epoch 17/20\n",
            "1000/1000 [==============================] - 10s 10ms/step - loss: 318.6003 - mean_absolute_error: 14.5861\n",
            "Epoch 18/20\n",
            "1000/1000 [==============================] - 10s 10ms/step - loss: 338.7719 - mean_absolute_error: 14.7894\n",
            "Epoch 19/20\n",
            "1000/1000 [==============================] - 10s 10ms/step - loss: 310.3711 - mean_absolute_error: 14.2652\n",
            "Epoch 20/20\n",
            "1000/1000 [==============================] - 10s 10ms/step - loss: 321.6466 - mean_absolute_error: 14.7248\n"
          ],
          "name": "stdout"
        }
      ]
    },
    {
      "metadata": {
        "id": "cr-fYquGzuJ7",
        "colab_type": "code",
        "colab": {
          "base_uri": "https://localhost:8080/",
          "height": 52
        },
        "outputId": "3708a274-4079-4e28-c78f-8355dd7da814"
      },
      "cell_type": "code",
      "source": [
        "model.evaluate(x_test, y_test)"
      ],
      "execution_count": 343,
      "outputs": [
        {
          "output_type": "stream",
          "text": [
            "100/100 [==============================] - 1s 8ms/step\n"
          ],
          "name": "stdout"
        },
        {
          "output_type": "execute_result",
          "data": {
            "text/plain": [
              "[172.5204359436035, 10.668620777130126]"
            ]
          },
          "metadata": {
            "tags": []
          },
          "execution_count": 343
        }
      ]
    },
    {
      "metadata": {
        "id": "MbL_acsW7Q6V",
        "colab_type": "code",
        "colab": {
          "base_uri": "https://localhost:8080/",
          "height": 34
        },
        "outputId": "cf445071-b037-4285-e0d4-3902de6987cf"
      },
      "cell_type": "code",
      "source": [
        "history.history.keys()"
      ],
      "execution_count": 344,
      "outputs": [
        {
          "output_type": "execute_result",
          "data": {
            "text/plain": [
              "dict_keys(['loss', 'mean_absolute_error'])"
            ]
          },
          "metadata": {
            "tags": []
          },
          "execution_count": 344
        }
      ]
    },
    {
      "metadata": {
        "id": "GeGoLN_X7JOp",
        "colab_type": "code",
        "colab": {
          "base_uri": "https://localhost:8080/",
          "height": 376
        },
        "outputId": "b77c5849-5eff-4003-932f-4bf0ce840ae4"
      },
      "cell_type": "code",
      "source": [
        "# Plot training & validation loss values\n",
        "plt.plot(history.history['loss'])\n",
        "plt.plot(history.history['mean_absolute_error'])\n",
        "plt.title('Model loss')\n",
        "plt.ylabel('Loss')\n",
        "plt.xlabel('Epoch')\n",
        "plt.legend(['Train', 'Test'], loc='upper left')\n",
        "plt.show()"
      ],
      "execution_count": 345,
      "outputs": [
        {
          "output_type": "display_data",
          "data": {
            "image/png": "[encoded data removed]",
            "text/plain": [
              "<Figure size 576x396 with 1 Axes>"
            ]
          },
          "metadata": {
            "tags": []
          }
        }
      ]
    }
  ]
}